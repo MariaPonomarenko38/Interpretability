{
  "nbformat": 4,
  "nbformat_minor": 0,
  "metadata": {
    "colab": {
      "name": "AITS-Kmeans.ipynb",
      "provenance": []
    },
    "kernelspec": {
      "name": "python3",
      "display_name": "Python 3"
    },
    "language_info": {
      "name": "python"
    }
  },
  "cells": [
    {
      "cell_type": "code",
      "execution_count": 1,
      "metadata": {
        "colab": {
          "base_uri": "https://localhost:8080/"
        },
        "id": "2Ddm9we5bl0c",
        "outputId": "210ea44f-bf9e-46ec-95e7-a5eb68915a6a"
      },
      "outputs": [
        {
          "output_type": "stream",
          "name": "stdout",
          "text": [
            "Mounted at /content/drive\n"
          ]
        }
      ],
      "source": [
        "from google.colab import drive\n",
        "drive.mount('/content/drive')"
      ]
    },
    {
      "cell_type": "code",
      "source": [
        "from intent_classification_helper import *"
      ],
      "metadata": {
        "id": "HNir6xy8b6a9"
      },
      "execution_count": 1,
      "outputs": []
    },
    {
      "cell_type": "code",
      "source": [
        "atis_train = pd.read_csv('/content/drive/MyDrive/nlp_datasets/ATIS dataset/atis_intents_train.csv', error_bad_lines=False, \n",
        "                   engine='python', encoding='utf-8', names=['intent', 'message'])\n",
        "atis_test = pd.read_csv('/content/drive/MyDrive/nlp_datasets/ATIS dataset/atis_intents_test.csv', error_bad_lines=False, \n",
        "                   engine='python', encoding='utf-8', names=['intent', 'message'])\n",
        "assert(set(atis_train['intent']) == set(atis_test['intent']))"
      ],
      "metadata": {
        "colab": {
          "base_uri": "https://localhost:8080/"
        },
        "id": "cFbs4Xe3cCMJ",
        "outputId": "a13681b9-2ea3-41c3-9341-1e44f751c5a0"
      },
      "execution_count": 2,
      "outputs": [
        {
          "output_type": "stream",
          "name": "stderr",
          "text": [
            "/usr/local/lib/python3.7/dist-packages/IPython/core/interactiveshell.py:2882: FutureWarning: The error_bad_lines argument has been deprecated and will be removed in a future version.\n",
            "\n",
            "\n",
            "  exec(code_obj, self.user_global_ns, self.user_ns)\n"
          ]
        }
      ]
    },
    {
      "cell_type": "code",
      "source": [
        "atis_train['intent'].value_counts()"
      ],
      "metadata": {
        "colab": {
          "base_uri": "https://localhost:8080/"
        },
        "id": "k494t_mMrnmX",
        "outputId": "8dd98028-6d59-4a1b-b14d-8a21611dd617"
      },
      "execution_count": 3,
      "outputs": [
        {
          "output_type": "execute_result",
          "data": {
            "text/plain": [
              "atis_flight            3666\n",
              "atis_airfare            423\n",
              "atis_ground_service     255\n",
              "atis_airline            157\n",
              "atis_abbreviation       147\n",
              "atis_aircraft            81\n",
              "atis_flight_time         54\n",
              "atis_quantity            51\n",
              "Name: intent, dtype: int64"
            ]
          },
          "metadata": {},
          "execution_count": 3
        }
      ]
    },
    {
      "cell_type": "code",
      "source": [
        "atis_train = balance_class(atis_train, 'message', 'intent')"
      ],
      "metadata": {
        "id": "tHbSFKpgs9YB"
      },
      "execution_count": 4,
      "outputs": []
    },
    {
      "cell_type": "code",
      "source": [
        "atis_train['intent'].value_counts()"
      ],
      "metadata": {
        "colab": {
          "base_uri": "https://localhost:8080/"
        },
        "id": "qS8c07jTurVb",
        "outputId": "db91ec6e-3c92-4a4b-8241-c81eb91165ec"
      },
      "execution_count": 5,
      "outputs": [
        {
          "output_type": "execute_result",
          "data": {
            "text/plain": [
              "atis_flight            3666\n",
              "atis_flight_time       3666\n",
              "atis_airfare           3666\n",
              "atis_aircraft          3666\n",
              "atis_ground_service    3666\n",
              "atis_airline           3666\n",
              "atis_abbreviation      3666\n",
              "atis_quantity          3666\n",
              "Name: intent, dtype: int64"
            ]
          },
          "metadata": {},
          "execution_count": 5
        }
      ]
    },
    {
      "cell_type": "code",
      "source": [
        "y_train = atis_train['intent'].tolist()\n",
        "y_test = atis_test['intent'].tolist()"
      ],
      "metadata": {
        "id": "FUUfLMQfgVWC"
      },
      "execution_count": 10,
      "outputs": []
    },
    {
      "cell_type": "code",
      "source": [
        "# preprocess text\n",
        "print('Preprocessing text on training set...')\n",
        "preprocess_text(atis_train, 'message')\n",
        "\n",
        "print('Preprocessing text on test set...')\n",
        "preprocess_text(atis_test, 'message')"
      ],
      "metadata": {
        "colab": {
          "base_uri": "https://localhost:8080/"
        },
        "id": "iRO80J1eck4l",
        "outputId": "c5f7857b-87fd-41ba-b713-c510a55188a2"
      },
      "execution_count": 6,
      "outputs": [
        {
          "output_type": "stream",
          "name": "stdout",
          "text": [
            "Preprocessing text on training set...\n",
            "\n",
            "\n",
            "Start text preprocessing: \n",
            "--------------------------\n",
            "Converting to lowercase...\n",
            "--------------------------\n",
            "Removing html tags...\n",
            "--------------------------\n",
            "Removing nonword characters...\n",
            "--------------------------\n",
            "Removing stopwords...\n"
          ]
        },
        {
          "output_type": "stream",
          "name": "stderr",
          "text": [
            "[nltk_data] Downloading package stopwords to /root/nltk_data...\n",
            "[nltk_data]   Package stopwords is already up-to-date!\n",
            "[nltk_data] Downloading package wordnet to /root/nltk_data...\n",
            "[nltk_data]   Package wordnet is already up-to-date!\n"
          ]
        },
        {
          "output_type": "stream",
          "name": "stdout",
          "text": [
            "Text preprocessing completed.\n",
            "\n",
            "\n",
            "Preprocessing text on test set...\n",
            "\n",
            "\n",
            "Start text preprocessing: \n",
            "--------------------------\n",
            "Converting to lowercase...\n",
            "--------------------------\n",
            "Removing html tags...\n",
            "--------------------------\n",
            "Removing nonword characters...\n",
            "--------------------------\n",
            "Removing stopwords...\n",
            "Text preprocessing completed.\n",
            "\n",
            "\n"
          ]
        },
        {
          "output_type": "stream",
          "name": "stderr",
          "text": [
            "[nltk_data] Downloading package stopwords to /root/nltk_data...\n",
            "[nltk_data]   Package stopwords is already up-to-date!\n",
            "[nltk_data] Downloading package wordnet to /root/nltk_data...\n",
            "[nltk_data]   Package wordnet is already up-to-date!\n"
          ]
        }
      ]
    },
    {
      "cell_type": "code",
      "source": [
        "# kmeans_label_map is acquired using the below script with all TF-IDF features:\n",
        "\n",
        "# label_map = {}\n",
        "\n",
        "# for i in range(len(y_train)):\n",
        "#   key = '{} {}'.format(kmeans.labels_[i], y_train[i])\n",
        "#   if key in label_map:\n",
        "#     label_map[key] += 1\n",
        "#   else:\n",
        "#     label_map[key] = 1\n",
        "\n",
        "# '0 atis_airfare': 2323,\n",
        "# '1 atis_aircraft': 2430,\n",
        "# '2 atis_quantity': 1773,\n",
        "# '3 atis_abbreviation': 1404,\n",
        "# '4 atis_flight_time': 1779,\n",
        "# '5 atis_airline': 1031,\n",
        "# '6 atis_ground_service': 3065,\n",
        "# '7 atis_flight': 1481\n",
        "\n",
        "kmeans_label_map = {0: 'atis_airfare', 1: 'atis_aircraft', 2: 'atis_quantity', 3: 'atis_abbreviation', 4: 'atis_flight_time', \n",
        "                    5: 'atis_airline', 6: 'atis_ground_service', 7: 'atis_flight'}"
      ],
      "metadata": {
        "id": "XD0GnWmsv-kC"
      },
      "execution_count": 7,
      "outputs": []
    },
    {
      "cell_type": "code",
      "source": [
        "from sklearn.feature_extraction.text import TfidfVectorizer\n",
        "from sklearn.cluster import KMeans\n",
        "\n",
        "def kmeans_tf_idf(feature_numbers=[40, 100, 200, 500, 1000]):\n",
        "  \n",
        "  # try different number of features\n",
        "  for feature_number in feature_numbers:  \n",
        "    tv = TfidfVectorizer(max_df=1.0, min_df=0, max_features=feature_number)\n",
        "    \n",
        "    x_train = atis_train['message'].tolist()\n",
        "    x_test = atis_test['message'].tolist()\n",
        "\n",
        "    tv.fit(x_train)\n",
        "    x_train = tv.transform(x_train).toarray()\n",
        "    x_test = tv.transform(x_test).toarray()\n",
        "\n",
        "    vocab = tv.get_feature_names_out()\n",
        "\n",
        "    print('TF-IDF vocabulary size: ', len(vocab))\n",
        "    #print(pd.DataFrame(x_train, columns=vocab))\n",
        "    \n",
        "    num_classes = 8\n",
        "    kmeans = KMeans(n_clusters=num_classes, random_state=8)\n",
        "    kmeans.fit(x_train)\n",
        "\n",
        "    y_true = y_test\n",
        "    prediction = kmeans.predict(x_test)\n",
        "    mapped_prediction = []\n",
        "\n",
        "    for i in range(len(prediction)):\n",
        "      mapped_prediction.append(kmeans_label_map[prediction[i]])\n",
        "\n",
        "    prediction = mapped_prediction\n",
        "\n",
        "    evaluate_model(model=None, name='kmeans_tf-idf_{}'.format(len(vocab)), x_test=x_test, y_test=y_test, num_features=len(vocab), path='/content/drive/MyDrive/nlp_datasets/ATIS dataset/models',\n",
        "                   filename='evaluation_kmeans.csv', unsupervised=True, prediction=prediction)\n",
        "    \n",
        "    print()\n",
        "    if feature_number < len(vocab):\n",
        "      break"
      ],
      "metadata": {
        "id": "QuyxbjkYNhyG"
      },
      "execution_count": 26,
      "outputs": []
    },
    {
      "cell_type": "code",
      "source": [
        "kmeans_tf_idf()"
      ],
      "metadata": {
        "colab": {
          "base_uri": "https://localhost:8080/"
        },
        "id": "c8nCgcUlOUCa",
        "outputId": "39a17430-cecd-44a7-e8ee-17fcdb57519f"
      },
      "execution_count": 27,
      "outputs": [
        {
          "output_type": "stream",
          "name": "stdout",
          "text": [
            "TF-IDF vocabulary size:  40\n",
            "evaluate the model:  kmeans_tf-idf_40\n",
            "accuracy score:  0.0875\n",
            "balanced accuracy score:  0.013844936708860759\n",
            "weighted precision:  0.7276315789473684\n",
            "weighted recall:  0.0875\n",
            "weighted f1 score:  0.15621468926553672\n",
            "macro f1 score:  0.024717514124293783\n",
            "\n",
            "TF-IDF vocabulary size:  100\n",
            "evaluate the model:  kmeans_tf-idf_100\n",
            "accuracy score:  0.14375\n",
            "balanced accuracy score:  0.12862605485232068\n",
            "weighted precision:  0.7523488398415392\n",
            "weighted recall:  0.14375\n",
            "weighted f1 score:  0.16695929247555838\n",
            "macro f1 score:  0.04237452787664951\n",
            "\n"
          ]
        },
        {
          "output_type": "stream",
          "name": "stderr",
          "text": [
            "/usr/local/lib/python3.7/dist-packages/ipykernel_launcher.py:36: FutureWarning: The error_bad_lines argument has been deprecated and will be removed in a future version.\n",
            "\n",
            "\n"
          ]
        },
        {
          "output_type": "stream",
          "name": "stdout",
          "text": [
            "TF-IDF vocabulary size:  200\n",
            "evaluate the model:  kmeans_tf-idf_200\n",
            "accuracy score:  0.68125\n",
            "balanced accuracy score:  0.10779272151898735\n",
            "weighted precision:  0.6759026687598118\n",
            "weighted recall:  0.68125\n",
            "weighted f1 score:  0.6785657998423956\n",
            "macro f1 score:  0.10736800630417652\n",
            "\n"
          ]
        },
        {
          "output_type": "stream",
          "name": "stderr",
          "text": [
            "/usr/local/lib/python3.7/dist-packages/ipykernel_launcher.py:36: FutureWarning: The error_bad_lines argument has been deprecated and will be removed in a future version.\n",
            "\n",
            "\n"
          ]
        },
        {
          "output_type": "stream",
          "name": "stdout",
          "text": [
            "TF-IDF vocabulary size:  500\n",
            "evaluate the model:  kmeans_tf-idf_500\n",
            "accuracy score:  0.0575\n",
            "balanced accuracy score:  0.02897258309275298\n",
            "weighted precision:  0.5433541451000691\n",
            "weighted recall:  0.0575\n",
            "weighted f1 score:  0.10090439635715637\n",
            "macro f1 score:  0.02404486471456116\n",
            "\n"
          ]
        },
        {
          "output_type": "stream",
          "name": "stderr",
          "text": [
            "/usr/local/lib/python3.7/dist-packages/ipykernel_launcher.py:36: FutureWarning: The error_bad_lines argument has been deprecated and will be removed in a future version.\n",
            "\n",
            "\n"
          ]
        },
        {
          "output_type": "stream",
          "name": "stdout",
          "text": [
            "TF-IDF vocabulary size:  748\n",
            "evaluate the model:  kmeans_tf-idf_748\n",
            "accuracy score:  0.405\n",
            "balanced accuracy score:  0.44840134985767066\n",
            "weighted precision:  0.8774167691880949\n",
            "weighted recall:  0.405\n",
            "weighted f1 score:  0.5012615120378663\n",
            "macro f1 score:  0.38939161118620735\n",
            "\n"
          ]
        },
        {
          "output_type": "stream",
          "name": "stderr",
          "text": [
            "/usr/local/lib/python3.7/dist-packages/ipykernel_launcher.py:36: FutureWarning: The error_bad_lines argument has been deprecated and will be removed in a future version.\n",
            "\n",
            "\n"
          ]
        }
      ]
    },
    {
      "cell_type": "code",
      "source": [
        "# plot the feature importance graph for random forest\n",
        "plt.title('Performance of K-means vs Feature Numbers')\n",
        "plt.xlabel('Number of Features')\n",
        "plt.ylabel('Score')\n",
        "\n",
        "eval_path = '/content/drive/MyDrive/nlp_datasets/ATIS dataset/models/evaluation_kmeans.csv'\n",
        "eval_result = pd.read_csv(eval_path, error_bad_lines=False, engine='python', encoding='utf-8')\n",
        "\n",
        "feature_numbers = eval_result['num_features'].to_list()\n",
        "accuracy_scores = eval_result['accuracy score'].to_list()\n",
        "balanced_accuracy_scores = eval_result['balanced accuracy score'].to_list()\n",
        "weighted_precision = eval_result['weighted precision'].to_list()\n",
        "weighted_recall = eval_result['weighted recall'].to_list()\n",
        "weighted_f1_scores = eval_result['weighted f1 score'].to_list()\n",
        "macro_f1_scores = eval_result['macro f1 score'].to_list()\n",
        "\n",
        "plt.plot(feature_numbers, accuracy_scores, label='accuracy score')\n",
        "plt.plot(feature_numbers, weighted_precision, label='weighted precision')\n",
        "plt.plot(feature_numbers, weighted_recall, label='weighted recall')\n",
        "plt.plot(feature_numbers, weighted_f1_scores, label='weighted f1 score')\n",
        "plt.plot(feature_numbers, macro_f1_scores, label='macro f1 score')\n",
        "plt.legend()\n",
        "plt.grid()\n",
        "\n",
        "plt.figure()\n",
        "plt.xlabel('Number of Features')\n",
        "plt.ylabel('Score')\n",
        "plt.plot(feature_numbers, balanced_accuracy_scores, label='balanced accuracy score')\n",
        "plt.plot(feature_numbers, macro_f1_scores, label='macro f1 score')\n",
        "\n",
        "plt.legend()\n",
        "plt.grid()\n",
        "plt.show()"
      ],
      "metadata": {
        "colab": {
          "base_uri": "https://localhost:8080/",
          "height": 648
        },
        "id": "ksVz5r9wSzRg",
        "outputId": "04b94d11-ea48-465e-febd-cf3eae1d64fe"
      },
      "execution_count": 28,
      "outputs": [
        {
          "output_type": "stream",
          "name": "stderr",
          "text": [
            "/usr/local/lib/python3.7/dist-packages/IPython/core/interactiveshell.py:2882: FutureWarning: The error_bad_lines argument has been deprecated and will be removed in a future version.\n",
            "\n",
            "\n",
            "  exec(code_obj, self.user_global_ns, self.user_ns)\n"
          ]
        },
        {
          "output_type": "display_data",
          "data": {
            "text/plain": [
              "<Figure size 432x288 with 1 Axes>"
            ],
            "image/png": "[encoded data removed]"
          },
          "metadata": {
            "needs_background": "light"
          }
        },
        {
          "output_type": "display_data",
          "data": {
            "text/plain": [
              "<Figure size 432x288 with 1 Axes>"
            ],
            "image/png": "[encoded data removed]"
          },
          "metadata": {
            "needs_background": "light"
          }
        }
      ]
    }
  ]
}