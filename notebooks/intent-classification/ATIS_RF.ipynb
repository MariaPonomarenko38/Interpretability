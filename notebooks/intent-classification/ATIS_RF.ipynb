{
  "cells": [
    {
      "cell_type": "code",
      "execution_count": null,
      "metadata": {
        "colab": {
          "base_uri": "https://localhost:8080/"
        },
        "id": "9Jv24ubiPUXD",
        "outputId": "af190f7a-6f5d-4237-8143-3c977f693a7f"
      },
      "outputs": [
        {
          "name": "stdout",
          "output_type": "stream",
          "text": [
            "Mounted at /content/drive\n"
          ]
        }
      ],
      "source": [
        "from google.colab import drive\n",
        "drive.mount('/content/drive')"
      ]
    },
    {
      "cell_type": "code",
      "execution_count": null,
      "metadata": {
        "id": "FIo6UlicPhGU"
      },
      "outputs": [],
      "source": [
        "from intent_classification_helper import *"
      ]
    },
    {
      "cell_type": "code",
      "execution_count": null,
      "metadata": {
        "colab": {
          "base_uri": "https://localhost:8080/"
        },
        "id": "sXXtnHdIPkH0",
        "outputId": "ab1034c2-9c84-4859-da42-deb20e95ed18"
      },
      "outputs": [
        {
          "name": "stderr",
          "output_type": "stream",
          "text": [
            "/usr/local/lib/python3.7/dist-packages/IPython/core/interactiveshell.py:3326: FutureWarning: The error_bad_lines argument has been deprecated and will be removed in a future version.\n",
            "\n",
            "\n",
            "  exec(code_obj, self.user_global_ns, self.user_ns)\n"
          ]
        }
      ],
      "source": [
        "atis_train = pd.read_csv('/content/drive/MyDrive/nlp_datasets/ATIS dataset/atis_intents_train.csv', error_bad_lines=False, \n",
        "                   engine='python', encoding='utf-8', names=['intent', 'message'])\n",
        "atis_test = pd.read_csv('/content/drive/MyDrive/nlp_datasets/ATIS dataset/atis_intents_test.csv', error_bad_lines=False, \n",
        "                   engine='python', encoding='utf-8', names=['intent', 'message'])\n",
        "assert(set(atis_train['intent']) == set(atis_test['intent']))"
      ]
    },
    {
      "cell_type": "code",
      "execution_count": null,
      "metadata": {
        "colab": {
          "base_uri": "https://localhost:8080/"
        },
        "id": "O-lKrj30PmOm",
        "outputId": "2c802c61-4c3a-4131-9568-1ea3a4f26e8b"
      },
      "outputs": [
        {
          "data": {
            "text/plain": [
              "atis_flight            3666\n",
              "atis_airfare            423\n",
              "atis_ground_service     255\n",
              "atis_airline            157\n",
              "atis_abbreviation       147\n",
              "atis_aircraft            81\n",
              "atis_flight_time         54\n",
              "atis_quantity            51\n",
              "Name: intent, dtype: int64"
            ]
          },
          "execution_count": 4,
          "metadata": {},
          "output_type": "execute_result"
        }
      ],
      "source": [
        "atis_train['intent'].value_counts()"
      ]
    },
    {
      "cell_type": "code",
      "execution_count": null,
      "metadata": {
        "id": "ZVP0LLZQPp4w"
      },
      "outputs": [],
      "source": [
        "atis_train = balance_class(atis_train, 'message', 'intent')"
      ]
    },
    {
      "cell_type": "code",
      "execution_count": null,
      "metadata": {
        "colab": {
          "base_uri": "https://localhost:8080/"
        },
        "id": "25aE-CiRPreF",
        "outputId": "b8e226fd-9c02-4894-cf6f-6ead13b15680"
      },
      "outputs": [
        {
          "data": {
            "text/plain": [
              "atis_flight            3666\n",
              "atis_flight_time       3666\n",
              "atis_airfare           3666\n",
              "atis_aircraft          3666\n",
              "atis_ground_service    3666\n",
              "atis_airline           3666\n",
              "atis_abbreviation      3666\n",
              "atis_quantity          3666\n",
              "Name: intent, dtype: int64"
            ]
          },
          "execution_count": 6,
          "metadata": {},
          "output_type": "execute_result"
        }
      ],
      "source": [
        "atis_train['intent'].value_counts()"
      ]
    },
    {
      "cell_type": "code",
      "execution_count": null,
      "metadata": {
        "id": "daH5Sjf5QIra"
      },
      "outputs": [],
      "source": [
        "# encode label\n",
        "le = LabelEncoder()\n",
        "atis_train['intent'] = le.fit_transform(atis_train['intent'])\n",
        "atis_test['intent'] = le.fit_transform(atis_test['intent'])\n",
        "\n",
        "onehot_encoder = OneHotEncoder()\n",
        "y_train = onehot_encoder.fit_transform(atis_train['intent'].values.reshape(-1, 1)).todense()\n",
        "y_test = onehot_encoder.fit_transform(atis_test['intent'].values.reshape(-1, 1)).todense()"
      ]
    },
    {
      "cell_type": "code",
      "execution_count": null,
      "metadata": {
        "colab": {
          "base_uri": "https://localhost:8080/"
        },
        "id": "k1DmsuVpurk1",
        "outputId": "fffa018c-3bcf-45f5-d7bb-8012c0b87748"
      },
      "outputs": [
        {
          "data": {
            "text/plain": [
              "array(['atis_abbreviation', 'atis_aircraft', 'atis_airfare',\n",
              "       'atis_airline', 'atis_flight', 'atis_flight_time',\n",
              "       'atis_ground_service', 'atis_quantity'], dtype=object)"
            ]
          },
          "execution_count": 95,
          "metadata": {},
          "output_type": "execute_result"
        }
      ],
      "source": [
        "le.inverse_transform([0, 1, 2, 3, 4, 5, 6, 7])"
      ]
    },
    {
      "cell_type": "code",
      "execution_count": null,
      "metadata": {
        "colab": {
          "base_uri": "https://localhost:8080/"
        },
        "id": "MOEhHwdzP8iZ",
        "outputId": "227e7ad4-5c03-4c28-dfe9-405aa83f24b9"
      },
      "outputs": [
        {
          "name": "stdout",
          "output_type": "stream",
          "text": [
            "Preprocessing text on training set...\n",
            "\n",
            "\n",
            "Start text preprocessing: \n",
            "--------------------------\n",
            "Converting to lowercase...\n",
            "--------------------------\n",
            "Removing html tags...\n",
            "--------------------------\n",
            "Removing nonword characters...\n",
            "--------------------------\n",
            "Removing stopwords...\n"
          ]
        },
        {
          "name": "stderr",
          "output_type": "stream",
          "text": [
            "[nltk_data] Downloading package stopwords to /root/nltk_data...\n",
            "[nltk_data]   Unzipping corpora/stopwords.zip.\n",
            "[nltk_data] Downloading package wordnet to /root/nltk_data...\n"
          ]
        },
        {
          "name": "stdout",
          "output_type": "stream",
          "text": [
            "Text preprocessing completed.\n",
            "\n",
            "\n",
            "Preprocessing text on test set...\n",
            "\n",
            "\n",
            "Start text preprocessing: \n",
            "--------------------------\n",
            "Converting to lowercase...\n",
            "--------------------------\n",
            "Removing html tags...\n",
            "--------------------------\n",
            "Removing nonword characters...\n",
            "--------------------------\n",
            "Removing stopwords...\n",
            "Text preprocessing completed.\n",
            "\n",
            "\n"
          ]
        },
        {
          "name": "stderr",
          "output_type": "stream",
          "text": [
            "[nltk_data] Downloading package stopwords to /root/nltk_data...\n",
            "[nltk_data]   Package stopwords is already up-to-date!\n",
            "[nltk_data] Downloading package wordnet to /root/nltk_data...\n",
            "[nltk_data]   Package wordnet is already up-to-date!\n"
          ]
        }
      ],
      "source": [
        "# preprocess text\n",
        "print('Preprocessing text on training set...')\n",
        "preprocess_text(atis_train, 'message')\n",
        "\n",
        "print('Preprocessing text on test set...')\n",
        "preprocess_text(atis_test, 'message')"
      ]
    },
    {
      "cell_type": "code",
      "execution_count": null,
      "metadata": {
        "colab": {
          "base_uri": "https://localhost:8080/"
        },
        "id": "llqXPZhSUfXd",
        "outputId": "2ffbc9c4-7b7d-4199-dcf7-f9fc8ed6eebb"
      },
      "outputs": [
        {
          "name": "stdout",
          "output_type": "stream",
          "text": [
            "TF-IDF vocabulary size:  40\n",
            "TF-IDF vocabulary size:  100\n",
            "TF-IDF vocabulary size:  200\n",
            "TF-IDF vocabulary size:  500\n",
            "TF-IDF vocabulary size:  748\n"
          ]
        }
      ],
      "source": [
        "# added this part: tf-idf features vs feature frequence in each record\n",
        "from sklearn.feature_extraction.text import TfidfVectorizer\n",
        "import os\n",
        "\n",
        "feature_numbers=[40, 100, 200, 500, 1000]\n",
        "\n",
        "for feature_number in feature_numbers:  \n",
        "    tv = TfidfVectorizer(max_df=1.0, min_df=0, max_features=feature_number)\n",
        "    \n",
        "    x_train = atis_train['message'].tolist()\n",
        "    x_test = atis_test['message'].tolist()\n",
        "\n",
        "    tv.fit(x_train)\n",
        "    x_train = tv.transform(x_train).toarray()\n",
        "    x_test = tv.transform(x_test).toarray()\n",
        "\n",
        "    vocab = tv.get_feature_names_out()\n",
        "\n",
        "    print('TF-IDF vocabulary size: ', len(vocab))\n",
        "\n",
        "    x_train_freq_df = pd.DataFrame(x_train, columns=vocab)\n",
        "    x_test_freq_df = pd.DataFrame(x_test, columns=vocab)\n",
        "    \n",
        "    main_path = '/content/drive/MyDrive/nlp_datasets/ATIS dataset/models/feature_frequency'\n",
        "    x_train_file_name = 'train_tf-idf_feature_{}.csv'.format(len(vocab))\n",
        "    x_test_file_name = 'test_tf-idf_feature_{}.csv'.format(len(vocab))\n",
        "\n",
        "    x_train_freq_df.to_csv(os.path.join(main_path, x_train_file_name), index=False)\n",
        "    x_test_freq_df.to_csv(os.path.join(main_path, x_test_file_name), index=False)"
      ]
    },
    {
      "cell_type": "code",
      "execution_count": null,
      "metadata": {
        "id": "fJ9k_KK0dVFC"
      },
      "outputs": [],
      "source": [
        "# add label column\n",
        "df = pd.read_csv('/content/drive/MyDrive/nlp_datasets/ATIS dataset/models/feature_frequency/train_tf-idf_feature_40.csv')\n",
        "df['label'] = atis_train['intent']\n",
        "df.to_csv('/content/drive/MyDrive/nlp_datasets/ATIS dataset/models/feature_frequency/train_tf-idf_feature_40.csv', index=False)\n",
        "\n",
        "df = pd.read_csv('/content/drive/MyDrive/nlp_datasets/ATIS dataset/models/feature_frequency/test_tf-idf_feature_40.csv')\n",
        "df['label'] = atis_test['intent']\n",
        "df.to_csv('/content/drive/MyDrive/nlp_datasets/ATIS dataset/models/feature_frequency/test_tf-idf_feature_40.csv', index=False)"
      ]
    },
    {
      "cell_type": "code",
      "execution_count": null,
      "metadata": {
        "id": "P6ceyDQyQfli"
      },
      "outputs": [],
      "source": [
        "from sklearn.feature_extraction.text import TfidfVectorizer\n",
        "\n",
        "def rf_tf_idf(feature_numbers=[40, 100, 200, 500, 1000]):\n",
        "  \n",
        "  # try different number of features\n",
        "  for feature_number in feature_numbers:  \n",
        "    tv = TfidfVectorizer(max_df=1.0, min_df=0, max_features=feature_number)\n",
        "    \n",
        "    x_train = atis_train['message'].tolist()\n",
        "    x_test = atis_test['message'].tolist()\n",
        "\n",
        "    tv.fit(x_train)\n",
        "    x_train = tv.transform(x_train).toarray()\n",
        "    x_test = tv.transform(x_test).toarray()\n",
        "\n",
        "    vocab = tv.get_feature_names_out()\n",
        "\n",
        "    print('TF-IDF vocabulary size: ', len(vocab))\n",
        "    #print(pd.DataFrame(x_train, columns=vocab))\n",
        "    \n",
        "    model = random_foreset_classifier(x_train=x_train, y_train=y_train, num_features=len(vocab), n_estimators=150, max_depth=None, saving=False)\n",
        "    evaluate_model(model=model, name='random_forest_{}_features_n_estimators=150_max_depth=None'.format(len(vocab)), x_test=x_test, y_test=y_test, num_features=len(vocab),\n",
        "                   path='/content/drive/MyDrive/nlp_datasets/ATIS dataset/models', filename='evaluation_rf_updated.csv')\n",
        "\n",
        "    print()\n",
        "    if feature_number < len(vocab):\n",
        "      break"
      ]
    },
    {
      "cell_type": "code",
      "execution_count": null,
      "metadata": {
        "colab": {
          "base_uri": "https://localhost:8080/"
        },
        "id": "VARhFPqBR9Ra",
        "outputId": "a4f0d32e-d0c6-481b-fce0-ac4bb8fc1ef6"
      },
      "outputs": [
        {
          "name": "stdout",
          "output_type": "stream",
          "text": [
            "TF-IDF vocabulary size:  40\n"
          ]
        },
        {
          "name": "stderr",
          "output_type": "stream",
          "text": [
            "/usr/local/lib/python3.7/dist-packages/sklearn/utils/validation.py:598: FutureWarning: np.matrix usage is deprecated in 1.0 and will raise a TypeError in 1.2. Please convert to a numpy array with np.asarray. For more information see: https://numpy.org/doc/stable/reference/generated/numpy.matrix.html\n",
            "  FutureWarning,\n"
          ]
        },
        {
          "name": "stdout",
          "output_type": "stream",
          "text": [
            "evaluate the model:  random_forest_40_features_n_estimators=150_max_depth=None\n",
            "accuracy score:  0.895\n",
            "balanced accuracy score:  0.9267155229846769\n",
            "weighted precision:  0.9310974852612177\n",
            "weighted recall:  0.895\n",
            "weighted f1 score:  0.9060103046637167\n",
            "macro f1 score:  0.794132631444443\n",
            "\n",
            "TF-IDF vocabulary size:  100\n"
          ]
        },
        {
          "name": "stderr",
          "output_type": "stream",
          "text": [
            "/usr/local/lib/python3.7/dist-packages/sklearn/utils/validation.py:598: FutureWarning: np.matrix usage is deprecated in 1.0 and will raise a TypeError in 1.2. Please convert to a numpy array with np.asarray. For more information see: https://numpy.org/doc/stable/reference/generated/numpy.matrix.html\n",
            "  FutureWarning,\n"
          ]
        },
        {
          "name": "stdout",
          "output_type": "stream",
          "text": [
            "evaluate the model:  random_forest_100_features_n_estimators=150_max_depth=None\n",
            "accuracy score:  0.92875\n",
            "balanced accuracy score:  0.9387572636760678\n",
            "weighted precision:  0.9474932681520727\n",
            "weighted recall:  0.92875\n",
            "weighted f1 score:  0.9337689602400673\n",
            "macro f1 score:  0.8323397911993433\n",
            "\n"
          ]
        },
        {
          "name": "stderr",
          "output_type": "stream",
          "text": [
            "/usr/local/lib/python3.7/dist-packages/ipykernel_launcher.py:24: FutureWarning: The error_bad_lines argument has been deprecated and will be removed in a future version.\n",
            "\n",
            "\n"
          ]
        },
        {
          "name": "stdout",
          "output_type": "stream",
          "text": [
            "TF-IDF vocabulary size:  200\n"
          ]
        },
        {
          "name": "stderr",
          "output_type": "stream",
          "text": [
            "/usr/local/lib/python3.7/dist-packages/sklearn/utils/validation.py:598: FutureWarning: np.matrix usage is deprecated in 1.0 and will raise a TypeError in 1.2. Please convert to a numpy array with np.asarray. For more information see: https://numpy.org/doc/stable/reference/generated/numpy.matrix.html\n",
            "  FutureWarning,\n"
          ]
        },
        {
          "name": "stdout",
          "output_type": "stream",
          "text": [
            "evaluate the model:  random_forest_200_features_n_estimators=150_max_depth=None\n",
            "accuracy score:  0.95625\n",
            "balanced accuracy score:  0.9460631569694278\n",
            "weighted precision:  0.9651869903556374\n",
            "weighted recall:  0.95625\n",
            "weighted f1 score:  0.9582971074858955\n",
            "macro f1 score:  0.871049520166786\n",
            "\n"
          ]
        },
        {
          "name": "stderr",
          "output_type": "stream",
          "text": [
            "/usr/local/lib/python3.7/dist-packages/ipykernel_launcher.py:24: FutureWarning: The error_bad_lines argument has been deprecated and will be removed in a future version.\n",
            "\n",
            "\n"
          ]
        },
        {
          "name": "stdout",
          "output_type": "stream",
          "text": [
            "TF-IDF vocabulary size:  500\n"
          ]
        },
        {
          "name": "stderr",
          "output_type": "stream",
          "text": [
            "/usr/local/lib/python3.7/dist-packages/sklearn/utils/validation.py:598: FutureWarning: np.matrix usage is deprecated in 1.0 and will raise a TypeError in 1.2. Please convert to a numpy array with np.asarray. For more information see: https://numpy.org/doc/stable/reference/generated/numpy.matrix.html\n",
            "  FutureWarning,\n"
          ]
        },
        {
          "name": "stdout",
          "output_type": "stream",
          "text": [
            "evaluate the model:  random_forest_500_features_n_estimators=150_max_depth=None\n",
            "accuracy score:  0.96\n",
            "balanced accuracy score:  0.873679121326523\n",
            "weighted precision:  0.9679373435219415\n",
            "weighted recall:  0.96\n",
            "weighted f1 score:  0.9622732287582284\n",
            "macro f1 score:  0.836223313504497\n",
            "\n"
          ]
        },
        {
          "name": "stderr",
          "output_type": "stream",
          "text": [
            "/usr/local/lib/python3.7/dist-packages/ipykernel_launcher.py:24: FutureWarning: The error_bad_lines argument has been deprecated and will be removed in a future version.\n",
            "\n",
            "\n"
          ]
        },
        {
          "name": "stdout",
          "output_type": "stream",
          "text": [
            "TF-IDF vocabulary size:  748\n"
          ]
        },
        {
          "name": "stderr",
          "output_type": "stream",
          "text": [
            "/usr/local/lib/python3.7/dist-packages/sklearn/utils/validation.py:598: FutureWarning: np.matrix usage is deprecated in 1.0 and will raise a TypeError in 1.2. Please convert to a numpy array with np.asarray. For more information see: https://numpy.org/doc/stable/reference/generated/numpy.matrix.html\n",
            "  FutureWarning,\n"
          ]
        },
        {
          "name": "stdout",
          "output_type": "stream",
          "text": [
            "evaluate the model:  random_forest_748_features_n_estimators=150_max_depth=None\n",
            "accuracy score:  0.955\n",
            "balanced accuracy score:  0.9431085294988526\n",
            "weighted precision:  0.9661593786295006\n",
            "weighted recall:  0.955\n",
            "weighted f1 score:  0.9579487406858952\n",
            "macro f1 score:  0.8636230305898366\n",
            "\n"
          ]
        },
        {
          "name": "stderr",
          "output_type": "stream",
          "text": [
            "/usr/local/lib/python3.7/dist-packages/ipykernel_launcher.py:24: FutureWarning: The error_bad_lines argument has been deprecated and will be removed in a future version.\n",
            "\n",
            "\n"
          ]
        }
      ],
      "source": [
        "rf_tf_idf()"
      ]
    },
    {
      "cell_type": "code",
      "execution_count": null,
      "metadata": {
        "id": "w9qvhwIoYFWq"
      },
      "outputs": [],
      "source": [
        "import matplotlib.pyplot as plt\n",
        "import pandas as pd\n",
        "\n",
        "def plot_feature_graph(model_name, eval_path, reverse_rows=False):\n",
        "  # plot the feature importance graph for random forest\n",
        "  plt.title('Performance of {} vs Feature Numbers'.format(model_name))\n",
        "  plt.xlabel('Number of Features')\n",
        "  plt.ylabel('Score')\n",
        "\n",
        "  eval_result = pd.read_csv(eval_path, error_bad_lines=False, engine='python', encoding='utf-8')\n",
        "  if reverse_rows:\n",
        "    eval_result = eval_result.loc[::-1]\n",
        "\n",
        "  feature_numbers = eval_result['num_features'].to_list()\n",
        "  accuracy_scores = eval_result['accuracy score'].to_list()\n",
        "  balanced_accuracy_scores = eval_result['balanced accuracy score'].to_list()\n",
        "  weighted_precision = eval_result['weighted precision'].to_list()\n",
        "  weighted_recall = eval_result['weighted recall'].to_list()\n",
        "  weighted_f1_scores = eval_result['weighted f1 score'].to_list()\n",
        "  macro_f1_scores = eval_result['macro f1 score'].to_list()\n",
        "\n",
        "  plt.plot(feature_numbers, accuracy_scores, label='accuracy score')\n",
        "  plt.plot(feature_numbers, weighted_precision, label='weighted precision')\n",
        "  plt.plot(feature_numbers, weighted_recall, label='weighted recall')\n",
        "  plt.plot(feature_numbers, weighted_f1_scores, label='weighted f1 score')\n",
        "  plt.legend()\n",
        "  plt.grid()\n",
        "\n",
        "  plt.figure()\n",
        "  plt.xlabel('Number of Features')\n",
        "  plt.ylabel('Score')\n",
        "  plt.plot(feature_numbers, balanced_accuracy_scores, label='balanced accuracy score')\n",
        "  plt.plot(feature_numbers, macro_f1_scores, label='macro f1 score')\n",
        "\n",
        "  plt.legend()\n",
        "  plt.grid()\n",
        "  plt.show()"
      ]
    },
    {
      "cell_type": "code",
      "execution_count": null,
      "metadata": {
        "colab": {
          "base_uri": "https://localhost:8080/",
          "height": 626
        },
        "id": "94-aqubmTMXm",
        "outputId": "86421fad-cbc3-4b81-c881-5837d6976996"
      },
      "outputs": [
        {
          "name": "stderr",
          "output_type": "stream",
          "text": [
            "/usr/local/lib/python3.7/dist-packages/IPython/core/interactiveshell.py:3326: FutureWarning: The error_bad_lines argument has been deprecated and will be removed in a future version.\n",
            "\n",
            "\n",
            "  exec(code_obj, self.user_global_ns, self.user_ns)\n"
          ]
        },
        {
          "data": {
            "image/png": "[encoded data removed]",
            "text/plain": [
              "<Figure size 432x288 with 1 Axes>"
            ]
          },
          "metadata": {
            "needs_background": "light"
          },
          "output_type": "display_data"
        },
        {
          "data": {
            "image/png": "[encoded data removed]",
            "text/plain": [
              "<Figure size 432x288 with 1 Axes>"
            ]
          },
          "metadata": {
            "needs_background": "light"
          },
          "output_type": "display_data"
        }
      ],
      "source": [
        "import matplotlib.pyplot as plt\n",
        "import pandas as pd\n",
        "\n",
        "# plot the feature importance graph for random forest\n",
        "plt.title('Performance of RF vs Feature Numbers')\n",
        "plt.xlabel('Number of Features')\n",
        "plt.ylabel('Score')\n",
        "\n",
        "eval_path = '/content/drive/MyDrive/nlp_datasets/ATIS dataset/models/evaluation_rf_updated.csv'\n",
        "eval_result = pd.read_csv(eval_path, error_bad_lines=False, engine='python', encoding='utf-8')\n",
        "\n",
        "feature_numbers = eval_result['num_features'].to_list()\n",
        "accuracy_scores = eval_result['accuracy score'].to_list()\n",
        "balanced_accuracy_scores = eval_result['balanced accuracy score'].to_list()\n",
        "weighted_precision = eval_result['weighted precision'].to_list()\n",
        "weighted_recall = eval_result['weighted recall'].to_list()\n",
        "weighted_f1_scores = eval_result['weighted f1 score'].to_list()\n",
        "macro_f1_scores = eval_result['macro f1 score'].to_list()\n",
        "\n",
        "plt.plot(feature_numbers, accuracy_scores, label='accuracy score')\n",
        "plt.plot(feature_numbers, weighted_precision, label='weighted precision')\n",
        "plt.plot(feature_numbers, weighted_recall, label='weighted recall')\n",
        "plt.plot(feature_numbers, weighted_f1_scores, label='weighted f1 score')\n",
        "plt.legend()\n",
        "plt.grid()\n",
        "\n",
        "plt.figure()\n",
        "plt.xlabel('Number of Features')\n",
        "plt.ylabel('Score')\n",
        "plt.plot(feature_numbers, balanced_accuracy_scores, label='balanced accuracy score')\n",
        "plt.plot(feature_numbers, macro_f1_scores, label='macro f1 score')\n",
        "\n",
        "plt.legend()\n",
        "plt.grid()\n",
        "plt.show()"
      ]
    },
    {
      "cell_type": "code",
      "execution_count": null,
      "metadata": {
        "colab": {
          "base_uri": "https://localhost:8080/"
        },
        "id": "XmN4nqr9kRIU",
        "outputId": "6dd38df4-2183-4725-838c-637366e7558d"
      },
      "outputs": [
        {
          "data": {
            "text/plain": [
              "0       want fly boston 838 arrive denver 1110 morning\n",
              "1    flights available pittsburgh baltimore thursda...\n",
              "2    arrival time san francisco 755 flight leaving ...\n",
              "3                      cheapest airfare tacoma orlando\n",
              "4    round trip fares pittsburgh philadelphia 1000 ...\n",
              "Name: message, dtype: object"
            ]
          },
          "execution_count": 9,
          "metadata": {},
          "output_type": "execute_result"
        }
      ],
      "source": [
        "atis_train['message'].head()"
      ]
    },
    {
      "cell_type": "code",
      "execution_count": null,
      "metadata": {
        "id": "iJG5OuqYXeug"
      },
      "outputs": [],
      "source": [
        "# word2vec\n",
        "sents_train = []\n",
        "\n",
        "for row in atis_train['message'].tolist():\n",
        "  sents_train.append(row.split())\n",
        "  \n",
        "sents_test = []\n",
        "\n",
        "for row in atis_test['message'].tolist():\n",
        "  sents_test.append(row.split())"
      ]
    },
    {
      "cell_type": "code",
      "execution_count": null,
      "metadata": {
        "colab": {
          "base_uri": "https://localhost:8080/"
        },
        "id": "A0dlXmIGkkam",
        "outputId": "1f8fe13a-d458-4b41-c9a6-905ed0a1ab54"
      },
      "outputs": [
        {
          "name": "stdout",
          "output_type": "stream",
          "text": [
            "Looking in indexes: https://pypi.org/simple, https://us-python.pkg.dev/colab-wheels/public/simple/\n",
            "Requirement already satisfied: gensim in /usr/local/lib/python3.7/dist-packages (3.6.0)\n",
            "Requirement already satisfied: scipy>=0.18.1 in /usr/local/lib/python3.7/dist-packages (from gensim) (1.7.3)\n",
            "Requirement already satisfied: numpy>=1.11.3 in /usr/local/lib/python3.7/dist-packages (from gensim) (1.21.6)\n",
            "Requirement already satisfied: smart-open>=1.2.1 in /usr/local/lib/python3.7/dist-packages (from gensim) (5.2.1)\n",
            "Requirement already satisfied: six>=1.5.0 in /usr/local/lib/python3.7/dist-packages (from gensim) (1.15.0)\n"
          ]
        }
      ],
      "source": [
        "!pip install gensim"
      ]
    },
    {
      "cell_type": "code",
      "execution_count": null,
      "metadata": {
        "id": "r3Z1SVudkWMt"
      },
      "outputs": [],
      "source": [
        "from gensim.models import Word2Vec"
      ]
    },
    {
      "cell_type": "code",
      "execution_count": null,
      "metadata": {
        "colab": {
          "base_uri": "https://localhost:8080/"
        },
        "id": "P8N-ytrnhwub",
        "outputId": "8163bf14-d8b1-42e5-9d39-c8f71bdd7df0"
      },
      "outputs": [
        {
          "name": "stdout",
          "output_type": "stream",
          "text": [
            "number of features:  40\n"
          ]
        }
      ],
      "source": [
        "import copy\n",
        "\n",
        "for num_features in [40]:\n",
        "#for num_features in [40, 100, 200, 500, 1000]:\n",
        "  model_w2v = Word2Vec(sents_train, max_final_vocab=num_features)\n",
        "\n",
        "  x_train_freq_df = pd.DataFrame(columns = model_w2v.wv.vocab.keys())\n",
        "  x_test_freq_df = pd.DataFrame(columns = model_w2v.wv.vocab.keys())\n",
        "\n",
        "  print('number of features: ', len(model_w2v.wv.vocab))\n",
        "\n",
        "  freq_dic = {}\n",
        "  for word in model_w2v.wv.vocab.keys():\n",
        "    freq_dic[word] = 0\n",
        "\n",
        "  for i in range(len(sents_train)):\n",
        "    temp_freq_dic = copy.deepcopy(freq_dic)\n",
        "    sent = sents_train[i]      \n",
        "    for w in sent:\n",
        "      if w in model_w2v.wv.vocab.keys():\n",
        "        temp_freq_dic[w] += 1\n",
        "\n",
        "    x_train_freq_df = x_train_freq_df.append(temp_freq_dic, ignore_index=True)\n",
        "  \n",
        "  for i in range(len(sents_test)):\n",
        "    temp_freq_dic = copy.deepcopy(freq_dic)\n",
        "    sent = sents_test[i]      \n",
        "    for w in sent:\n",
        "      if w in model_w2v.wv.vocab.keys():\n",
        "        temp_freq_dic[w] += 1\n",
        "\n",
        "    x_test_freq_df = x_test_freq_df.append(temp_freq_dic, ignore_index=True)\n",
        "\n",
        "  main_path = '/content/drive/MyDrive/nlp_datasets/ATIS dataset/models/feature_frequency/word2vec'\n",
        "  x_train_file_name = 'train_word2vec_feature_{}.csv'.format(len(model_w2v.wv.vocab))\n",
        "  x_test_file_name = 'test_word2vec_feature_{}.csv'.format(len(model_w2v.wv.vocab))\n",
        "\n",
        "  x_train_freq_df.to_csv(os.path.join(main_path, x_train_file_name), index=False)\n",
        "  x_test_freq_df.to_csv(os.path.join(main_path, x_test_file_name), index=False)"
      ]
    },
    {
      "cell_type": "code",
      "execution_count": null,
      "metadata": {
        "id": "OinnHNLHZle1"
      },
      "outputs": [],
      "source": [
        "# add label column\n",
        "df = pd.read_csv('/content/drive/MyDrive/nlp_datasets/ATIS dataset/models/feature_frequency/word2vec/train_word2vec_feature_40.csv')\n",
        "df['label'] = atis_train['intent']\n",
        "df.to_csv('/content/drive/MyDrive/nlp_datasets/ATIS dataset/models/feature_frequency/word2vec/train_word2vec_feature_40.csv', index=False)"
      ]
    },
    {
      "cell_type": "code",
      "execution_count": null,
      "metadata": {
        "id": "Mwa3Zcufdu2H"
      },
      "outputs": [],
      "source": [
        "df = pd.read_csv('/content/drive/MyDrive/nlp_datasets/ATIS dataset/models/feature_frequency/word2vec/test_word2vec_feature_40.csv')\n",
        "df['label'] = atis_test['intent']\n",
        "df.to_csv('/content/drive/MyDrive/nlp_datasets/ATIS dataset/models/feature_frequency/word2vec/test_word2vec_feature_40.csv', index=False)"
      ]
    },
    {
      "cell_type": "code",
      "execution_count": null,
      "metadata": {
        "id": "8m56rFITXEjD"
      },
      "outputs": [],
      "source": [
        "def w2v_rf():\n",
        "  # chaneg min_count parameter to control different number of features\n",
        "  #for limit in range(1, 11): \n",
        "  #for limit in range(12, 31):\n",
        "  #for limit in range(32, 51):\n",
        "  for num in [40, 100, 200, 500, 1000]:\n",
        "    #model_w2v = Word2Vec(sents_train, min_count=limit)\n",
        "    model_w2v = Word2Vec(sents_train, max_final_vocab=num)\n",
        "    model_w2v.train(sents_train, total_examples=model_w2v.corpus_count, epochs=30)\n",
        "    num_features = len(model_w2v.wv.vocab)\n",
        "\n",
        "    w2v_ebd_len = model_w2v.wv['time'].shape[0]\n",
        "    x_train_w2v = np.zeros([len(atis_train['message']), w2v_ebd_len]) # initialize to zero, save zero padding\n",
        "    x_test_w2v = np.zeros([len(atis_test['message']), w2v_ebd_len])\n",
        "\n",
        "    # build x_train_w2v with averaged word embedding\n",
        "    for i in range(len(sents_train)):\n",
        "      sent = sents_train[i]\n",
        "      if sent == []: # handle the case with division, if it is empty sent, set to zero\n",
        "        continue \n",
        "      word_count = 0\n",
        "      for j in range(len(sent)):\n",
        "        word = sent[j]\n",
        "        if word not in model_w2v.wv:\n",
        "          continue\n",
        "        word_count += 1\n",
        "        x_train_w2v[i] = np.add(x_train_w2v[i], model_w2v.wv[word])\n",
        "      if word_count > 0:\n",
        "        x_train_w2v[i] = np.divide(x_train_w2v[i], word_count)\n",
        "    \n",
        "    y_train_w2v = y_train\n",
        "\n",
        "    # build x_test_w2v with averaged word embedding\n",
        "    for i in range(len(sents_test)):\n",
        "      sent = sents_test[i]\n",
        "      if sent == []: \n",
        "        continue \n",
        "      word_count = 0\n",
        "      for j in range(len(sent)):\n",
        "        word = sent[j]\n",
        "        if word not in model_w2v.wv:\n",
        "          continue\n",
        "        word_count += 1\n",
        "        x_test_w2v[i] = np.add(x_test_w2v[i], model_w2v.wv[word])\n",
        "      if word_count > 0:\n",
        "        x_test_w2v[i] = np.divide(x_test_w2v[i], word_count)\n",
        "\n",
        "      y_test_w2v = y_test\n",
        "\n",
        "    model_rf_w2v = RandomForestClassifier(n_estimators=150, max_depth=None)\n",
        "    model_rf_w2v.fit(x_train_w2v, y_train_w2v)\n",
        "\n",
        "    evaluate_model(model=model_rf_w2v, name='random_forest_w2v_features_{}_n_estimators=150_max_depth=None'.format(num_features), x_test=x_test_w2v, y_test=y_test_w2v, num_features=num_features,\n",
        "                   path='/content/drive/MyDrive/nlp_datasets/ATIS dataset/models', filename='evaluation_rf_w2v_updated.csv')"
      ]
    },
    {
      "cell_type": "code",
      "execution_count": null,
      "metadata": {
        "colab": {
          "base_uri": "https://localhost:8080/"
        },
        "id": "qEdGeGlfawfY",
        "outputId": "6ac552bf-b60f-4d6e-fdf9-d6882f1fcf64"
      },
      "outputs": [
        {
          "name": "stderr",
          "output_type": "stream",
          "text": [
            "WARNING:gensim.models.base_any2vec:Effective 'alpha' higher than previous training cycles\n",
            "/usr/local/lib/python3.7/dist-packages/sklearn/utils/validation.py:598: FutureWarning: np.matrix usage is deprecated in 1.0 and will raise a TypeError in 1.2. Please convert to a numpy array with np.asarray. For more information see: https://numpy.org/doc/stable/reference/generated/numpy.matrix.html\n",
            "  FutureWarning,\n"
          ]
        },
        {
          "name": "stdout",
          "output_type": "stream",
          "text": [
            "evaluate the model:  random_forest_w2v_features_40_n_estimators=150_max_depth=None\n",
            "accuracy score:  0.885\n",
            "balanced accuracy score:  0.8041057119327856\n",
            "weighted precision:  0.9222573806190121\n",
            "weighted recall:  0.885\n",
            "weighted f1 score:  0.8971027563052502\n",
            "macro f1 score:  0.735820560971272\n"
          ]
        },
        {
          "name": "stderr",
          "output_type": "stream",
          "text": [
            "WARNING:gensim.models.base_any2vec:Effective 'alpha' higher than previous training cycles\n",
            "/usr/local/lib/python3.7/dist-packages/sklearn/utils/validation.py:598: FutureWarning: np.matrix usage is deprecated in 1.0 and will raise a TypeError in 1.2. Please convert to a numpy array with np.asarray. For more information see: https://numpy.org/doc/stable/reference/generated/numpy.matrix.html\n",
            "  FutureWarning,\n"
          ]
        },
        {
          "name": "stdout",
          "output_type": "stream",
          "text": [
            "evaluate the model:  random_forest_w2v_features_100_n_estimators=150_max_depth=None\n",
            "accuracy score:  0.895\n",
            "balanced accuracy score:  0.5766988674217188\n",
            "weighted precision:  0.9051975741652794\n",
            "weighted recall:  0.895\n",
            "weighted f1 score:  0.8931108034293774\n",
            "macro f1 score:  0.5864798510169489\n"
          ]
        },
        {
          "name": "stderr",
          "output_type": "stream",
          "text": [
            "/usr/local/lib/python3.7/dist-packages/sklearn/metrics/_classification.py:1318: UndefinedMetricWarning: Precision is ill-defined and being set to 0.0 in labels with no predicted samples. Use `zero_division` parameter to control this behavior.\n",
            "  _warn_prf(average, modifier, msg_start, len(result))\n",
            "/usr/local/lib/python3.7/dist-packages/ipykernel_launcher.py:54: FutureWarning: The error_bad_lines argument has been deprecated and will be removed in a future version.\n",
            "\n",
            "\n",
            "WARNING:gensim.models.base_any2vec:Effective 'alpha' higher than previous training cycles\n",
            "/usr/local/lib/python3.7/dist-packages/sklearn/utils/validation.py:598: FutureWarning: np.matrix usage is deprecated in 1.0 and will raise a TypeError in 1.2. Please convert to a numpy array with np.asarray. For more information see: https://numpy.org/doc/stable/reference/generated/numpy.matrix.html\n",
            "  FutureWarning,\n"
          ]
        },
        {
          "name": "stdout",
          "output_type": "stream",
          "text": [
            "evaluate the model:  random_forest_w2v_features_199_n_estimators=150_max_depth=None\n",
            "accuracy score:  0.90375\n",
            "balanced accuracy score:  0.48396555074394854\n",
            "weighted precision:  0.9131247944078947\n",
            "weighted recall:  0.90375\n",
            "weighted f1 score:  0.8925177790079485\n",
            "macro f1 score:  0.5077724832080647\n"
          ]
        },
        {
          "name": "stderr",
          "output_type": "stream",
          "text": [
            "/usr/local/lib/python3.7/dist-packages/sklearn/metrics/_classification.py:1318: UndefinedMetricWarning: Precision is ill-defined and being set to 0.0 in labels with no predicted samples. Use `zero_division` parameter to control this behavior.\n",
            "  _warn_prf(average, modifier, msg_start, len(result))\n",
            "/usr/local/lib/python3.7/dist-packages/ipykernel_launcher.py:54: FutureWarning: The error_bad_lines argument has been deprecated and will be removed in a future version.\n",
            "\n",
            "\n",
            "WARNING:gensim.models.base_any2vec:Effective 'alpha' higher than previous training cycles\n",
            "/usr/local/lib/python3.7/dist-packages/sklearn/utils/validation.py:598: FutureWarning: np.matrix usage is deprecated in 1.0 and will raise a TypeError in 1.2. Please convert to a numpy array with np.asarray. For more information see: https://numpy.org/doc/stable/reference/generated/numpy.matrix.html\n",
            "  FutureWarning,\n"
          ]
        },
        {
          "name": "stdout",
          "output_type": "stream",
          "text": [
            "evaluate the model:  random_forest_w2v_features_496_n_estimators=150_max_depth=None\n",
            "accuracy score:  0.91625\n",
            "balanced accuracy score:  0.5174993291509364\n",
            "weighted precision:  0.9197010518436811\n",
            "weighted recall:  0.91625\n",
            "weighted f1 score:  0.9053770881171067\n",
            "macro f1 score:  0.5461972588978187\n"
          ]
        },
        {
          "name": "stderr",
          "output_type": "stream",
          "text": [
            "/usr/local/lib/python3.7/dist-packages/sklearn/metrics/_classification.py:1318: UndefinedMetricWarning: Precision is ill-defined and being set to 0.0 in labels with no predicted samples. Use `zero_division` parameter to control this behavior.\n",
            "  _warn_prf(average, modifier, msg_start, len(result))\n",
            "/usr/local/lib/python3.7/dist-packages/ipykernel_launcher.py:54: FutureWarning: The error_bad_lines argument has been deprecated and will be removed in a future version.\n",
            "\n",
            "\n",
            "WARNING:gensim.models.base_any2vec:Effective 'alpha' higher than previous training cycles\n",
            "/usr/local/lib/python3.7/dist-packages/sklearn/utils/validation.py:598: FutureWarning: np.matrix usage is deprecated in 1.0 and will raise a TypeError in 1.2. Please convert to a numpy array with np.asarray. For more information see: https://numpy.org/doc/stable/reference/generated/numpy.matrix.html\n",
            "  FutureWarning,\n"
          ]
        },
        {
          "name": "stdout",
          "output_type": "stream",
          "text": [
            "evaluate the model:  random_forest_w2v_features_516_n_estimators=150_max_depth=None\n",
            "accuracy score:  0.91375\n",
            "balanced accuracy score:  0.5122909958176031\n",
            "weighted precision:  0.9152702997989687\n",
            "weighted recall:  0.91375\n",
            "weighted f1 score:  0.9011929003707021\n",
            "macro f1 score:  0.5483933391799771\n"
          ]
        },
        {
          "name": "stderr",
          "output_type": "stream",
          "text": [
            "/usr/local/lib/python3.7/dist-packages/sklearn/metrics/_classification.py:1318: UndefinedMetricWarning: Precision is ill-defined and being set to 0.0 in labels with no predicted samples. Use `zero_division` parameter to control this behavior.\n",
            "  _warn_prf(average, modifier, msg_start, len(result))\n",
            "/usr/local/lib/python3.7/dist-packages/ipykernel_launcher.py:54: FutureWarning: The error_bad_lines argument has been deprecated and will be removed in a future version.\n",
            "\n",
            "\n"
          ]
        }
      ],
      "source": [
        "w2v_rf()"
      ]
    },
    {
      "cell_type": "code",
      "execution_count": null,
      "metadata": {
        "colab": {
          "base_uri": "https://localhost:8080/",
          "height": 646
        },
        "id": "ZOXMI5LQZb2A",
        "outputId": "c39669f3-c82e-4633-dd08-91afac726393"
      },
      "outputs": [
        {
          "name": "stderr",
          "output_type": "stream",
          "text": [
            "/usr/local/lib/python3.7/dist-packages/ipykernel_launcher.py:2: FutureWarning: The error_bad_lines argument has been deprecated and will be removed in a future version.\n",
            "\n",
            "\n",
            "  \n"
          ]
        },
        {
          "data": {
            "image/png": "[encoded data removed]",
            "text/plain": [
              "<Figure size 432x288 with 1 Axes>"
            ]
          },
          "metadata": {
            "needs_background": "light"
          },
          "output_type": "display_data"
        },
        {
          "data": {
            "image/png": "[encoded data removed]",
            "text/plain": [
              "<Figure size 432x288 with 1 Axes>"
            ]
          },
          "metadata": {
            "needs_background": "light"
          },
          "output_type": "display_data"
        }
      ],
      "source": [
        "eval_path='/content/drive/MyDrive/nlp_datasets/ATIS dataset/models/evaluation_rf_w2v.csv'\n",
        "plot_feature_graph(model_name='Word2Vec', eval_path=eval_path, reverse_rows=True)"
      ]
    },
    {
      "cell_type": "code",
      "execution_count": null,
      "metadata": {
        "id": "e1D66lx8Uvbk"
      },
      "outputs": [],
      "source": []
    },
    {
      "cell_type": "code",
      "execution_count": null,
      "metadata": {
        "id": "5ApcQb7ymQ_D"
      },
      "outputs": [],
      "source": [
        "#Doc2Vec\n",
        "from gensim.models.doc2vec import Doc2Vec, TaggedDocument"
      ]
    },
    {
      "cell_type": "code",
      "execution_count": null,
      "metadata": {
        "id": "A7yIlo5qnZRy"
      },
      "outputs": [],
      "source": [
        "documents = [TaggedDocument(doc, [i]) for i, doc in enumerate(sents_train)]"
      ]
    },
    {
      "cell_type": "code",
      "execution_count": null,
      "metadata": {
        "id": "MY9Huy3YnwsR"
      },
      "outputs": [],
      "source": [
        "model_d2v = Doc2Vec(documents, min_count=1, epochs=30)"
      ]
    },
    {
      "cell_type": "code",
      "execution_count": null,
      "metadata": {
        "colab": {
          "base_uri": "https://localhost:8080/"
        },
        "id": "dTFbcoM1h8ln",
        "outputId": "7e760056-a149-4bc0-9ef3-1ee6c0a5aff0"
      },
      "outputs": [
        {
          "data": {
            "text/plain": [
              "763"
            ]
          },
          "execution_count": 52,
          "metadata": {},
          "output_type": "execute_result"
        }
      ],
      "source": [
        "len(model_d2v.wv.vocab)"
      ]
    },
    {
      "cell_type": "code",
      "execution_count": null,
      "metadata": {
        "colab": {
          "base_uri": "https://localhost:8080/"
        },
        "id": "PUDcJOENitSJ",
        "outputId": "95d1087c-6888-4f57-bc37-cb29c0ccb2c6"
      },
      "outputs": [
        {
          "data": {
            "text/plain": [
              "(763, 100)"
            ]
          },
          "execution_count": 53,
          "metadata": {},
          "output_type": "execute_result"
        }
      ],
      "source": [
        "model_d2v.wv.vectors.shape"
      ]
    },
    {
      "cell_type": "code",
      "execution_count": null,
      "metadata": {
        "colab": {
          "base_uri": "https://localhost:8080/"
        },
        "id": "oE52do--ptpK",
        "outputId": "fef2b6e1-1fa7-4cba-d62a-30716bb664e1"
      },
      "outputs": [
        {
          "data": {
            "text/plain": [
              "29328"
            ]
          },
          "execution_count": 27,
          "metadata": {},
          "output_type": "execute_result"
        }
      ],
      "source": [
        "model_d2v.corpus_count"
      ]
    },
    {
      "cell_type": "code",
      "execution_count": null,
      "metadata": {
        "colab": {
          "base_uri": "https://localhost:8080/"
        },
        "id": "qpgsHbh6pvFA",
        "outputId": "147832c1-14ab-48ee-8448-0e6e0bfdc55e"
      },
      "outputs": [
        {
          "name": "stderr",
          "output_type": "stream",
          "text": [
            "WARNING:gensim.models.base_any2vec:Effective 'alpha' higher than previous training cycles\n"
          ]
        }
      ],
      "source": [
        "model_d2v.train(documents, total_examples=model_d2v.corpus_count, epochs=model_d2v.epochs)"
      ]
    },
    {
      "cell_type": "code",
      "execution_count": null,
      "metadata": {
        "colab": {
          "base_uri": "https://localhost:8080/"
        },
        "id": "Hro1rrXzwkCz",
        "outputId": "8d697780-be33-41c2-ac45-1b297914e67a"
      },
      "outputs": [
        {
          "data": {
            "text/plain": [
              "763"
            ]
          },
          "execution_count": 30,
          "metadata": {},
          "output_type": "execute_result"
        }
      ],
      "source": [
        "len(model_d2v.wv.vocab)"
      ]
    },
    {
      "cell_type": "code",
      "execution_count": null,
      "metadata": {
        "colab": {
          "base_uri": "https://localhost:8080/"
        },
        "id": "wVaKiV-6w0tw",
        "outputId": "85d2bb91-0813-4a6c-c298-39910b4589e4"
      },
      "outputs": [
        {
          "data": {
            "text/plain": [
              "(100,)"
            ]
          },
          "execution_count": 31,
          "metadata": {},
          "output_type": "execute_result"
        }
      ],
      "source": [
        "model_d2v.infer_vector(sents_train[0]).shape[0]"
      ]
    },
    {
      "cell_type": "code",
      "execution_count": null,
      "metadata": {
        "colab": {
          "base_uri": "https://localhost:8080/"
        },
        "id": "ISwcoQAReQ3R",
        "outputId": "ccd27669-7926-4dd7-8b59-0557a4cc5e6a"
      },
      "outputs": [
        {
          "name": "stdout",
          "output_type": "stream",
          "text": [
            "number of features:  50\n"
          ]
        }
      ],
      "source": [
        "for num_features in [91]:\n",
        "#for num_features in [40, 100, 200, 500, 1000]:\n",
        "  model_d2v = Doc2Vec(documents, max_vocab_size=num_features)\n",
        "\n",
        "  x_train_freq_df = pd.DataFrame(columns = model_d2v.wv.vocab.keys())\n",
        "  x_test_freq_df = pd.DataFrame(columns = model_d2v.wv.vocab.keys())\n",
        "\n",
        "  print('number of features: ', len(model_d2v.wv.vocab))\n",
        "\n",
        "  freq_dic = {}\n",
        "  for word in model_d2v.wv.vocab.keys():\n",
        "    freq_dic[word] = 0\n",
        "\n",
        "  for i in range(len(sents_train)):\n",
        "    temp_freq_dic = copy.deepcopy(freq_dic)\n",
        "    sent = sents_train[i]      \n",
        "    for w in sent:\n",
        "      if w in model_d2v.wv.vocab.keys():\n",
        "        temp_freq_dic[w] += 1\n",
        "\n",
        "    x_train_freq_df = x_train_freq_df.append(temp_freq_dic, ignore_index=True)\n",
        "  \n",
        "  for i in range(len(sents_test)):\n",
        "    temp_freq_dic = copy.deepcopy(freq_dic)\n",
        "    sent = sents_test[i]      \n",
        "    for w in sent:\n",
        "      if w in model_d2v.wv.vocab.keys():\n",
        "        temp_freq_dic[w] += 1\n",
        "\n",
        "    x_test_freq_df = x_test_freq_df.append(temp_freq_dic, ignore_index=True)\n",
        "\n",
        "  main_path = '/content/drive/MyDrive/nlp_datasets/ATIS dataset/models/feature_frequency/doc2vec'\n",
        "  x_train_file_name = 'train_doc2vec_feature_{}.csv'.format(len(model_d2v.wv.vocab))\n",
        "  x_test_file_name = 'test_doc2vec_feature_{}.csv'.format(len(model_d2v.wv.vocab))\n",
        "\n",
        "  x_train_freq_df.to_csv(os.path.join(main_path, x_train_file_name), index=False)\n",
        "  x_test_freq_df.to_csv(os.path.join(main_path, x_test_file_name), index=False)"
      ]
    },
    {
      "cell_type": "code",
      "execution_count": null,
      "metadata": {
        "id": "CE8kIUMcl2Vk"
      },
      "outputs": [],
      "source": [
        "# add label column\n",
        "df = pd.read_csv('/content/drive/MyDrive/nlp_datasets/ATIS dataset/models/feature_frequency/doc2vec/train_doc2vec_feature_50.csv')\n",
        "df['label'] = atis_train['intent']\n",
        "df.to_csv('/content/drive/MyDrive/nlp_datasets/ATIS dataset/models/feature_frequency/doc2vec/train_doc2vec_feature_50.csv', index=False)\n",
        "\n",
        "df = pd.read_csv('/content/drive/MyDrive/nlp_datasets/ATIS dataset/models/feature_frequency/doc2vec/test_doc2vec_feature_50.csv')\n",
        "df['label'] = atis_test['intent']\n",
        "df.to_csv('/content/drive/MyDrive/nlp_datasets/ATIS dataset/models/feature_frequency/doc2vec/test_doc2vec_feature_50.csv', index=False)"
      ]
    },
    {
      "cell_type": "code",
      "execution_count": null,
      "metadata": {
        "id": "RHToWpQkxBDO"
      },
      "outputs": [],
      "source": [
        "def d2v_rf():\n",
        "  # change min_count parameter to control different number of features\n",
        "  for num_features in [91]:\n",
        "  # for limit in range(1, 51):\n",
        "    #model_d2v = Doc2Vec(documents, min_count=limit, epochs=30)\n",
        "    model_d2v = Doc2Vec(documents, max_vocab_size=num_features, epochs=30)\n",
        "    model_d2v.train(documents, total_examples=model_d2v.corpus_count, epochs=model_d2v.epochs)\n",
        "    num_features = len(model_d2v.wv.vocab)\n",
        "\n",
        "    d2v_ebd_len = model_d2v.infer_vector(sents_train[0]).shape[0]\n",
        "    x_train_d2v = np.zeros([len(atis_train['message']), d2v_ebd_len]) # initialize to zero, save zero padding\n",
        "    x_test_d2v = np.zeros([len(atis_test['message']), d2v_ebd_len])\n",
        "\n",
        "    for i in range(len(sents_train)):\n",
        "      sent = sents_train[i]\n",
        "      x_train_d2v[i] = model_d2v.infer_vector(sent)\n",
        "    \n",
        "    y_train_d2v = y_train\n",
        "\n",
        "    for i in range(len(sents_test)):\n",
        "      sent = sents_test[i]\n",
        "      x_test_d2v[i] = model_d2v.infer_vector(sent)\n",
        "\n",
        "    y_test_d2v = y_test\n",
        "\n",
        "    model_rf_d2v = RandomForestClassifier(n_estimators=150, max_depth=None)\n",
        "    model_rf_d2v.fit(x_train_d2v, y_train_d2v)\n",
        "\n",
        "    evaluate_model(model=model_rf_d2v, name='random_forest_d2v_features_{}_n_estimators=150_max_depth=None'.format(num_features), x_test=x_test_d2v, y_test=y_test_d2v, num_features=num_features,\n",
        "                   path='/content/drive/MyDrive/nlp_datasets/ATIS dataset/models', filename='evaluation_rf_d2v.csv')"
      ]
    },
    {
      "cell_type": "code",
      "execution_count": null,
      "metadata": {
        "colab": {
          "base_uri": "https://localhost:8080/"
        },
        "id": "AEbwN52tyhC2",
        "outputId": "16f572bc-8a67-49ac-ce8e-ecd3fd40ba9b"
      },
      "outputs": [
        {
          "name": "stderr",
          "output_type": "stream",
          "text": [
            "WARNING:gensim.models.base_any2vec:Effective 'alpha' higher than previous training cycles\n",
            "/usr/local/lib/python3.7/dist-packages/sklearn/utils/validation.py:598: FutureWarning: np.matrix usage is deprecated in 1.0 and will raise a TypeError in 1.2. Please convert to a numpy array with np.asarray. For more information see: https://numpy.org/doc/stable/reference/generated/numpy.matrix.html\n",
            "  FutureWarning,\n"
          ]
        },
        {
          "name": "stdout",
          "output_type": "stream",
          "text": [
            "evaluate the model:  random_forest_d2v_features_50_n_estimators=150_max_depth=None\n",
            "accuracy score:  0.355\n",
            "balanced accuracy score:  0.46236247594196456\n",
            "weighted precision:  0.886112716730198\n",
            "weighted recall:  0.355\n",
            "weighted f1 score:  0.45406715053827534\n",
            "macro f1 score:  0.3067556064798569\n"
          ]
        },
        {
          "name": "stderr",
          "output_type": "stream",
          "text": [
            "/usr/local/lib/python3.7/dist-packages/ipykernel_launcher.py:30: FutureWarning: The error_bad_lines argument has been deprecated and will be removed in a future version.\n",
            "\n",
            "\n"
          ]
        }
      ],
      "source": [
        "d2v_rf()"
      ]
    },
    {
      "cell_type": "code",
      "execution_count": null,
      "metadata": {
        "id": "kZXru15RpRgx"
      },
      "outputs": [],
      "source": [
        "# combine evaluation result of 40 features (d2v is 50) into a single csv"
      ]
    },
    {
      "cell_type": "code",
      "execution_count": null,
      "metadata": {
        "id": "0T_fqm6ioJ0A"
      },
      "outputs": [],
      "source": [
        "df1 = pd.read_csv('/content/drive/MyDrive/nlp_datasets/ATIS dataset/models/evaluation_rf_updated.csv')\n",
        "df2 = pd.read_csv('/content/drive/MyDrive/nlp_datasets/ATIS dataset/models/evaluation_rf_d2v.csv')\n",
        "df3 = pd.read_csv('/content/drive/MyDrive/nlp_datasets/ATIS dataset/models/evaluation_rf_w2v_updated.csv')"
      ]
    },
    {
      "cell_type": "code",
      "execution_count": null,
      "metadata": {
        "colab": {
          "base_uri": "https://localhost:8080/"
        },
        "id": "Uf_HDwi5osif",
        "outputId": "ff962a32-4aee-48ed-ed3c-4ddb819024c3"
      },
      "outputs": [
        {
          "data": {
            "text/plain": [
              "model                      random_forest_40_features_n_estimators=150_max...\n",
              "accuracy score                                                         0.895\n",
              "balanced accuracy score                                             0.926716\n",
              "weighted precision                                                  0.931097\n",
              "weighted recall                                                        0.895\n",
              "weighted f1 score                                                    0.90601\n",
              "macro f1 score                                                      0.794133\n",
              "num_features                                                              40\n",
              "Name: 0, dtype: object"
            ]
          },
          "execution_count": 71,
          "metadata": {},
          "output_type": "execute_result"
        }
      ],
      "source": [
        "df1.iloc[0]"
      ]
    },
    {
      "cell_type": "code",
      "execution_count": null,
      "metadata": {
        "colab": {
          "base_uri": "https://localhost:8080/"
        },
        "id": "YQK5chXmpHqo",
        "outputId": "6d24e309-6f8b-4b52-8e09-d7506250c7e8"
      },
      "outputs": [
        {
          "data": {
            "text/plain": [
              "model                      random_forest_d2v_features_50_n_estimators=150...\n",
              "accuracy score                                                         0.355\n",
              "balanced accuracy score                                             0.462362\n",
              "weighted precision                                                  0.886113\n",
              "weighted recall                                                        0.355\n",
              "weighted f1 score                                                   0.454067\n",
              "macro f1 score                                                      0.306756\n",
              "num_features                                                              50\n",
              "Name: 18, dtype: object"
            ]
          },
          "execution_count": 73,
          "metadata": {},
          "output_type": "execute_result"
        }
      ],
      "source": [
        "df2.iloc[-1]"
      ]
    },
    {
      "cell_type": "code",
      "execution_count": null,
      "metadata": {
        "colab": {
          "base_uri": "https://localhost:8080/"
        },
        "id": "UBUJ9ZLupO4o",
        "outputId": "1bdf07ec-ab17-4862-d676-595f8b4da3dd"
      },
      "outputs": [
        {
          "data": {
            "text/plain": [
              "model                      random_forest_w2v_features_40_n_estimators=150...\n",
              "accuracy score                                                         0.885\n",
              "balanced accuracy score                                             0.804106\n",
              "weighted precision                                                  0.922257\n",
              "weighted recall                                                        0.885\n",
              "weighted f1 score                                                   0.897103\n",
              "macro f1 score                                                      0.735821\n",
              "num_features                                                              40\n",
              "Name: 0, dtype: object"
            ]
          },
          "execution_count": 74,
          "metadata": {},
          "output_type": "execute_result"
        }
      ],
      "source": [
        "df3.iloc[0]"
      ]
    },
    {
      "cell_type": "code",
      "execution_count": null,
      "metadata": {
        "id": "qGXXdhH_pafO"
      },
      "outputs": [],
      "source": [
        "df_comb = pd.DataFrame(columns = df1.columns)"
      ]
    },
    {
      "cell_type": "code",
      "execution_count": null,
      "metadata": {
        "id": "xNHW9emYpljJ"
      },
      "outputs": [],
      "source": [
        "df_comb = df_comb.append(df1.iloc[0])\n",
        "df_comb = df_comb.append(df3.iloc[0])\n",
        "df_comb = df_comb.append(df2.iloc[-1])"
      ]
    },
    {
      "cell_type": "code",
      "execution_count": null,
      "metadata": {
        "id": "VVzfvLh3py1J"
      },
      "outputs": [],
      "source": [
        "df_comb['model'] = df_comb['model'].replace(['random_forest_40_features_n_estimators=150_max_depth=None'], 'random_forest_td-idf_40_features_n_estimators=150_max_depth=None')"
      ]
    },
    {
      "cell_type": "code",
      "execution_count": null,
      "metadata": {
        "id": "3erQveXhq30p"
      },
      "outputs": [],
      "source": [
        "df_comb.to_csv('/content/drive/MyDrive/nlp_datasets/ATIS dataset/models/evaluation_combined.csv', index=False)"
      ]
    },
    {
      "cell_type": "code",
      "execution_count": null,
      "metadata": {
        "id": "DKIVsz3frKA_"
      },
      "outputs": [],
      "source": []
    },
    {
      "cell_type": "code",
      "execution_count": null,
      "metadata": {
        "colab": {
          "base_uri": "https://localhost:8080/",
          "height": 646
        },
        "id": "pI7j7AXBG9Ge",
        "outputId": "f49862a8-38aa-4d38-86da-7c399502c57f"
      },
      "outputs": [
        {
          "name": "stderr",
          "output_type": "stream",
          "text": [
            "/usr/local/lib/python3.7/dist-packages/ipykernel_launcher.py:2: FutureWarning: The error_bad_lines argument has been deprecated and will be removed in a future version.\n",
            "\n",
            "\n",
            "  \n"
          ]
        },
        {
          "data": {
            "image/png": "[encoded data removed]",
            "text/plain": [
              "<Figure size 432x288 with 1 Axes>"
            ]
          },
          "metadata": {
            "needs_background": "light"
          },
          "output_type": "display_data"
        },
        {
          "data": {
            "image/png": "[encoded data removed]",
            "text/plain": [
              "<Figure size 432x288 with 1 Axes>"
            ]
          },
          "metadata": {
            "needs_background": "light"
          },
          "output_type": "display_data"
        }
      ],
      "source": [
        "eval_path='/content/drive/MyDrive/nlp_datasets/ATIS dataset/models/evaluation_rf_d2v.csv'\n",
        "plot_feature_graph(model_name='Doc2Vec', eval_path=eval_path, reverse_rows=True)"
      ]
    },
    {
      "cell_type": "code",
      "execution_count": null,
      "metadata": {
        "colab": {
          "base_uri": "https://localhost:8080/"
        },
        "id": "KTUZBzMBHDnh",
        "outputId": "68f87c55-b5e6-493d-f3e9-0714acf8a685"
      },
      "outputs": [
        {
          "name": "stdout",
          "output_type": "stream",
          "text": [
            "Looking in indexes: https://pypi.org/simple, https://us-python.pkg.dev/colab-wheels/public/simple/\n",
            "Collecting transformers\n",
            "  Downloading transformers-4.22.1-py3-none-any.whl (4.9 MB)\n",
            "\u001b[K     |████████████████████████████████| 4.9 MB 28.0 MB/s \n",
            "\u001b[?25hRequirement already satisfied: numpy>=1.17 in /usr/local/lib/python3.7/dist-packages (from transformers) (1.21.6)\n",
            "Requirement already satisfied: importlib-metadata in /usr/local/lib/python3.7/dist-packages (from transformers) (4.12.0)\n",
            "Requirement already satisfied: requests in /usr/local/lib/python3.7/dist-packages (from transformers) (2.23.0)\n",
            "Collecting tokenizers!=0.11.3,<0.13,>=0.11.1\n",
            "  Downloading tokenizers-0.12.1-cp37-cp37m-manylinux_2_12_x86_64.manylinux2010_x86_64.whl (6.6 MB)\n",
            "\u001b[K     |████████████████████████████████| 6.6 MB 62.5 MB/s \n",
            "\u001b[?25hRequirement already satisfied: packaging>=20.0 in /usr/local/lib/python3.7/dist-packages (from transformers) (21.3)\n",
            "Requirement already satisfied: pyyaml>=5.1 in /usr/local/lib/python3.7/dist-packages (from transformers) (6.0)\n",
            "Collecting huggingface-hub<1.0,>=0.9.0\n",
            "  Downloading huggingface_hub-0.9.1-py3-none-any.whl (120 kB)\n",
            "\u001b[K     |████████████████████████████████| 120 kB 76.1 MB/s \n",
            "\u001b[?25hRequirement already satisfied: tqdm>=4.27 in /usr/local/lib/python3.7/dist-packages (from transformers) (4.64.1)\n",
            "Requirement already satisfied: filelock in /usr/local/lib/python3.7/dist-packages (from transformers) (3.8.0)\n",
            "Requirement already satisfied: regex!=2019.12.17 in /usr/local/lib/python3.7/dist-packages (from transformers) (2022.6.2)\n",
            "Requirement already satisfied: typing-extensions>=3.7.4.3 in /usr/local/lib/python3.7/dist-packages (from huggingface-hub<1.0,>=0.9.0->transformers) (4.1.1)\n",
            "Requirement already satisfied: pyparsing!=3.0.5,>=2.0.2 in /usr/local/lib/python3.7/dist-packages (from packaging>=20.0->transformers) (3.0.9)\n",
            "Requirement already satisfied: zipp>=0.5 in /usr/local/lib/python3.7/dist-packages (from importlib-metadata->transformers) (3.8.1)\n",
            "Requirement already satisfied: chardet<4,>=3.0.2 in /usr/local/lib/python3.7/dist-packages (from requests->transformers) (3.0.4)\n",
            "Requirement already satisfied: certifi>=2017.4.17 in /usr/local/lib/python3.7/dist-packages (from requests->transformers) (2022.6.15)\n",
            "Requirement already satisfied: urllib3!=1.25.0,!=1.25.1,<1.26,>=1.21.1 in /usr/local/lib/python3.7/dist-packages (from requests->transformers) (1.24.3)\n",
            "Requirement already satisfied: idna<3,>=2.5 in /usr/local/lib/python3.7/dist-packages (from requests->transformers) (2.10)\n",
            "Installing collected packages: tokenizers, huggingface-hub, transformers\n",
            "Successfully installed huggingface-hub-0.9.1 tokenizers-0.12.1 transformers-4.22.1\n"
          ]
        }
      ],
      "source": [
        "!pip install transformers"
      ]
    },
    {
      "cell_type": "code",
      "execution_count": null,
      "metadata": {
        "colab": {
          "base_uri": "https://localhost:8080/",
          "height": 104,
          "referenced_widgets": [
            "87c166b2483043049bca6fafe6296f1f",
            "5ad696f4f20b4ec18c9e390b1ab88e95",
            "dc55a42c506b405d8ce8c1e7c4142100",
            "770cfea274d8465aac4fa51c435dfd89",
            "2271a8ee88ef48c8950c0bb72fdfc00e",
            "2d68c81e7d80425a863cc016c5fe303f",
            "cf082d52db6d4c11b934ca99cede3c48",
            "862fac1d1e1843c082cdf54b4bf47fab",
            "a2eed8425db8463d8aca8ee1f81f73ff",
            "b587d616b0cc4bfc8be40ec1d2005a63",
            "21cd50796ed142ea9d17e55b26914d4f"
          ]
        },
        "id": "vGB8FuKeHHRY",
        "outputId": "6bba35cb-3af5-4751-f82d-a11e81fee23e"
      },
      "outputs": [
        {
          "name": "stderr",
          "output_type": "stream",
          "text": [
            "The cache for model files in Transformers v4.22.0 has been updated. Migrating your old cache. This is a one-time only operation. You can interrupt this and resume the migration later on by calling `transformers.utils.move_cache()`.\n"
          ]
        },
        {
          "name": "stdout",
          "output_type": "stream",
          "text": [
            "Moving 0 files to the new cache system\n"
          ]
        },
        {
          "data": {
            "application/vnd.jupyter.widget-view+json": {
              "model_id": "87c166b2483043049bca6fafe6296f1f",
              "version_major": 2,
              "version_minor": 0
            },
            "text/plain": [
              "0it [00:00, ?it/s]"
            ]
          },
          "metadata": {},
          "output_type": "display_data"
        }
      ],
      "source": [
        "import torch\n",
        "from transformers import BertTokenizer, BertModel"
      ]
    },
    {
      "cell_type": "code",
      "execution_count": null,
      "metadata": {
        "id": "Pf1rbuPmHb7m"
      },
      "outputs": [],
      "source": [
        "tokenizer = BertTokenizer.from_pretrained('bert-base-uncased')"
      ]
    },
    {
      "cell_type": "code",
      "execution_count": null,
      "metadata": {
        "id": "GM3GSO3PHm5N"
      },
      "outputs": [],
      "source": [
        "text = atis_train['message'][0]\n",
        "text = '[CLS] ' + text + ' [SEP]'\n",
        "\n",
        "tokenized_text = tokenizer.tokenize(text)"
      ]
    },
    {
      "cell_type": "code",
      "execution_count": null,
      "metadata": {
        "colab": {
          "base_uri": "https://localhost:8080/"
        },
        "id": "dGGb7UzwHrQI",
        "outputId": "80554c25-8e94-4734-bb45-d8f9463a41f3"
      },
      "outputs": [
        {
          "data": {
            "text/plain": [
              "['[CLS]',\n",
              " 'want',\n",
              " 'fly',\n",
              " 'boston',\n",
              " '83',\n",
              " '##8',\n",
              " 'arrive',\n",
              " 'denver',\n",
              " '111',\n",
              " '##0',\n",
              " 'morning',\n",
              " '[SEP]']"
            ]
          },
          "execution_count": 23,
          "metadata": {},
          "output_type": "execute_result"
        }
      ],
      "source": [
        "tokenized_text"
      ]
    },
    {
      "cell_type": "code",
      "execution_count": null,
      "metadata": {
        "id": "IPhtPvABIB5o"
      },
      "outputs": [],
      "source": [
        "indexed_tokens = tokenizer.convert_tokens_to_ids(tokenized_text)\n",
        "segments_ids = [1] * len(tokenized_text)"
      ]
    },
    {
      "cell_type": "code",
      "execution_count": null,
      "metadata": {
        "id": "LlWJlBPIINo7"
      },
      "outputs": [],
      "source": [
        "tokens_tensor = torch.tensor([indexed_tokens])\n",
        "segments_tensors = torch.tensor([segments_ids])"
      ]
    },
    {
      "cell_type": "code",
      "execution_count": null,
      "metadata": {
        "colab": {
          "base_uri": "https://localhost:8080/",
          "height": 201
        },
        "id": "7Nwe_O5RI835",
        "outputId": "21ba1046-6664-45a8-cd2e-d48399f45b0f"
      },
      "outputs": [
        {
          "ename": "NameError",
          "evalue": "ignored",
          "output_type": "error",
          "traceback": [
            "\u001b[0;31m---------------------------------------------------------------------------\u001b[0m",
            "\u001b[0;31mNameError\u001b[0m                                 Traceback (most recent call last)",
            "\u001b[0;32m<ipython-input-26-b7ec29c4fbea>\u001b[0m in \u001b[0;36m<module>\u001b[0;34m\u001b[0m\n\u001b[1;32m      1\u001b[0m \u001b[0;32mwith\u001b[0m \u001b[0mtorch\u001b[0m\u001b[0;34m.\u001b[0m\u001b[0mno_grad\u001b[0m\u001b[0;34m(\u001b[0m\u001b[0;34m)\u001b[0m\u001b[0;34m:\u001b[0m\u001b[0;34m\u001b[0m\u001b[0;34m\u001b[0m\u001b[0m\n\u001b[0;32m----> 2\u001b[0;31m   \u001b[0moutputs\u001b[0m \u001b[0;34m=\u001b[0m \u001b[0mmodel\u001b[0m\u001b[0;34m(\u001b[0m\u001b[0mtokens_tensor\u001b[0m\u001b[0;34m,\u001b[0m \u001b[0msegments_tensors\u001b[0m\u001b[0;34m)\u001b[0m\u001b[0;34m\u001b[0m\u001b[0;34m\u001b[0m\u001b[0m\n\u001b[0m\u001b[1;32m      3\u001b[0m   \u001b[0mhidden_states\u001b[0m \u001b[0;34m=\u001b[0m \u001b[0moutputs\u001b[0m\u001b[0;34m[\u001b[0m\u001b[0;36m2\u001b[0m\u001b[0;34m]\u001b[0m\u001b[0;34m\u001b[0m\u001b[0;34m\u001b[0m\u001b[0m\n",
            "\u001b[0;31mNameError\u001b[0m: name 'model' is not defined"
          ]
        }
      ],
      "source": [
        "with torch.no_grad():\n",
        "  outputs = model(tokens_tensor, segments_tensors)\n",
        "  hidden_states = outputs[2]"
      ]
    },
    {
      "cell_type": "code",
      "execution_count": null,
      "metadata": {
        "colab": {
          "base_uri": "https://localhost:8080/"
        },
        "id": "QQ2jKHG6JFOY",
        "outputId": "95420c8c-25a6-4a7c-b869-0b663c29ec26"
      },
      "outputs": [
        {
          "data": {
            "text/plain": [
              "13"
            ]
          },
          "execution_count": 54,
          "metadata": {},
          "output_type": "execute_result"
        }
      ],
      "source": [
        "len(hidden_states)"
      ]
    },
    {
      "cell_type": "code",
      "execution_count": null,
      "metadata": {
        "id": "L-FCl42XJKyk"
      },
      "outputs": [],
      "source": [
        "# why -2?\n",
        "sent_ebd = torch.mean(hidden_states[-2][0], dim=0)"
      ]
    },
    {
      "cell_type": "code",
      "execution_count": null,
      "metadata": {
        "colab": {
          "base_uri": "https://localhost:8080/"
        },
        "id": "DmUnFzAgLjcf",
        "outputId": "fa293165-bbfd-45f8-a935-772c12dda656"
      },
      "outputs": [
        {
          "data": {
            "text/plain": [
              "torch.Size([768])"
            ]
          },
          "execution_count": 57,
          "metadata": {},
          "output_type": "execute_result"
        }
      ],
      "source": [
        "sent_ebd.shape"
      ]
    },
    {
      "cell_type": "code",
      "execution_count": null,
      "metadata": {
        "id": "bXpvdqKMLpm3"
      },
      "outputs": [],
      "source": [
        "sent_ebd.numpy()"
      ]
    },
    {
      "cell_type": "code",
      "execution_count": null,
      "metadata": {
        "id": "BezBlvUpIfkw"
      },
      "outputs": [],
      "source": []
    },
    {
      "cell_type": "code",
      "execution_count": null,
      "metadata": {
        "id": "ILDZnCwVOEha"
      },
      "outputs": [],
      "source": [
        "# question about features\n",
        "# for bert: number of dimension of embedding?\n",
        "# for word2vec, doc2vec: number of words in vocabulary?"
      ]
    },
    {
      "cell_type": "code",
      "execution_count": null,
      "metadata": {
        "id": "XJKs7PDXOeit"
      },
      "outputs": [],
      "source": [
        "# reference: https://medium.com/@dhartidhami/understanding-bert-word-embeddings-7dc4d2ea54ca"
      ]
    },
    {
      "cell_type": "code",
      "execution_count": null,
      "metadata": {
        "id": "RgAUpcUoL3RX"
      },
      "outputs": [],
      "source": [
        "def bert_rf():\n",
        "  tokenizer = BertTokenizer.from_pretrained('bert-base-uncased')\n",
        "  model_bert = BertModel.from_pretrained('bert-base-uncased', output_hidden_states=True)\n",
        "  model_bert.eval() \n",
        "\n",
        "  bert_ebd_len = 768\n",
        "  num_features = 768\n",
        "  x_train_bert = np.zeros([len(atis_train['message']), bert_ebd_len]) # initialize to zero, save zero padding\n",
        "  x_test_bert = np.zeros([len(atis_test['message']), bert_ebd_len])\n",
        "\n",
        "  for i in range(len(atis_train['message'])):\n",
        "    curr_text = atis_train['message'][i]\n",
        "    curr_text = '[CLS] ' + curr_text + ' [SEP]'\n",
        "\n",
        "    tokenized_text = tokenizer.tokenize(curr_text)\n",
        "\n",
        "    indexed_tokens = tokenizer.convert_tokens_to_ids(tokenized_text)\n",
        "    segments_ids = [1] * len(tokenized_text)\n",
        "\n",
        "    tokens_tensor = torch.tensor([indexed_tokens])\n",
        "    segments_tensors = torch.tensor([segments_ids])\n",
        "\n",
        "    with torch.no_grad():\n",
        "      outputs = model_bert(tokens_tensor, segments_tensors)\n",
        "      hidden_states = outputs[2]\n",
        "\n",
        "    sent_ebd = torch.mean(hidden_states[-2][0], dim=0)\n",
        "    x_train_bert[i] = sent_ebd.numpy()\n",
        "\n",
        "  y_train_bert = y_train\n",
        "  print('training set bert encoding done')\n",
        "\n",
        "  for i in range(len(atis_test['message'])):\n",
        "    curr_text = atis_test['message'][i]\n",
        "    curr_text = '[CLS] ' + curr_text + ' [SEP]'\n",
        "\n",
        "    tokenized_text = tokenizer.tokenize(curr_text)\n",
        "\n",
        "    indexed_tokens = tokenizer.convert_tokens_to_ids(tokenized_text)\n",
        "    segments_ids = [1] * len(tokenized_text)\n",
        "\n",
        "    with torch.no_grad():\n",
        "      outputs = model_bert(tokens_tensor, segments_tensors)\n",
        "      hidden_states = outputs[2]\n",
        "\n",
        "    sent_ebd = torch.mean(hidden_states[-2][0], dim=0)\n",
        "    x_test_bert[i] = sent_ebd.numpy()\n",
        "\n",
        "  y_test_bert = y_test\n",
        "  print('test set bert encoding done')\n",
        "\n",
        "  model_rf_bert = RandomForestClassifier(n_estimators=150, max_depth=None)\n",
        "  model_rf_bert.fit(x_train_bert, y_train_bert)\n",
        "\n",
        "  evaluate_model(model=model_rf_bert, name='random_forest_d2v_features_{}_n_estimators=150_max_depth=None'.format(num_features), x_test=x_test_bert, y_test=y_test_bert, num_features=num_features,\n",
        "                  path='/content/drive/MyDrive/nlp_datasets/ATIS dataset/models', filename='evaluation_rf_bert.csv')"
      ]
    },
    {
      "cell_type": "code",
      "execution_count": null,
      "metadata": {
        "colab": {
          "base_uri": "https://localhost:8080/"
        },
        "id": "5WbhxI4HOmcL",
        "outputId": "2aad6a48-837d-4870-a133-8637ac76772a"
      },
      "outputs": [
        {
          "name": "stderr",
          "output_type": "stream",
          "text": [
            "Some weights of the model checkpoint at bert-base-uncased were not used when initializing BertModel: ['cls.predictions.transform.dense.bias', 'cls.predictions.decoder.weight', 'cls.predictions.transform.LayerNorm.weight', 'cls.predictions.transform.dense.weight', 'cls.predictions.transform.LayerNorm.bias', 'cls.seq_relationship.bias', 'cls.seq_relationship.weight', 'cls.predictions.bias']\n",
            "- This IS expected if you are initializing BertModel from the checkpoint of a model trained on another task or with another architecture (e.g. initializing a BertForSequenceClassification model from a BertForPreTraining model).\n",
            "- This IS NOT expected if you are initializing BertModel from the checkpoint of a model that you expect to be exactly identical (initializing a BertForSequenceClassification model from a BertForSequenceClassification model).\n"
          ]
        },
        {
          "name": "stdout",
          "output_type": "stream",
          "text": [
            "training set bert encoding done\n",
            "test set bert encoding done\n"
          ]
        },
        {
          "name": "stderr",
          "output_type": "stream",
          "text": [
            "/usr/local/lib/python3.7/dist-packages/sklearn/utils/validation.py:598: FutureWarning: np.matrix usage is deprecated in 1.0 and will raise a TypeError in 1.2. Please convert to a numpy array with np.asarray. For more information see: https://numpy.org/doc/stable/reference/generated/numpy.matrix.html\n",
            "  FutureWarning,\n"
          ]
        },
        {
          "name": "stdout",
          "output_type": "stream",
          "text": [
            "evaluate the model:  random_forest_d2v_features_768_n_estimators=150_max_depth=None\n",
            "accuracy score:  0.00375\n",
            "balanced accuracy score:  0.125\n",
            "weighted precision:  1.40625e-05\n",
            "weighted recall:  0.00375\n",
            "weighted f1 score:  2.8019925280199252e-05\n",
            "macro f1 score:  0.0009339975093399751\n"
          ]
        },
        {
          "name": "stderr",
          "output_type": "stream",
          "text": [
            "/usr/local/lib/python3.7/dist-packages/sklearn/metrics/_classification.py:1318: UndefinedMetricWarning: Precision is ill-defined and being set to 0.0 in labels with no predicted samples. Use `zero_division` parameter to control this behavior.\n",
            "  _warn_prf(average, modifier, msg_start, len(result))\n"
          ]
        }
      ],
      "source": [
        "bert_rf()"
      ]
    },
    {
      "cell_type": "code",
      "execution_count": null,
      "metadata": {
        "colab": {
          "base_uri": "https://localhost:8080/"
        },
        "id": "sImYrsai5-JK",
        "outputId": "b3a1e33c-d005-47c0-d922-a904bf4b6f14"
      },
      "outputs": [
        {
          "name": "stderr",
          "output_type": "stream",
          "text": [
            "Some weights of the model checkpoint at bert-base-uncased were not used when initializing BertModel: ['cls.predictions.transform.dense.bias', 'cls.predictions.decoder.weight', 'cls.predictions.transform.LayerNorm.weight', 'cls.predictions.transform.dense.weight', 'cls.predictions.transform.LayerNorm.bias', 'cls.seq_relationship.bias', 'cls.seq_relationship.weight', 'cls.predictions.bias']\n",
            "- This IS expected if you are initializing BertModel from the checkpoint of a model trained on another task or with another architecture (e.g. initializing a BertForSequenceClassification model from a BertForPreTraining model).\n",
            "- This IS NOT expected if you are initializing BertModel from the checkpoint of a model that you expect to be exactly identical (initializing a BertForSequenceClassification model from a BertForSequenceClassification model).\n"
          ]
        },
        {
          "name": "stdout",
          "output_type": "stream",
          "text": [
            "test set bert encoding done\n"
          ]
        }
      ],
      "source": [
        "tokenizer = BertTokenizer.from_pretrained('bert-base-uncased')\n",
        "model_bert = BertModel.from_pretrained('bert-base-uncased', output_hidden_states=True)\n",
        "model_bert.eval() \n",
        "\n",
        "bert_ebd_len = 768\n",
        "num_features = 768\n",
        "x_train_bert = np.zeros([len(atis_train['message']), bert_ebd_len]) # initialize to zero, save zero padding\n",
        "x_test_bert = np.zeros([len(atis_test['message']), bert_ebd_len])\n",
        "\n",
        "# for i in range(len(atis_train['message'])):\n",
        "#   curr_text = atis_train['message'][i]\n",
        "#   curr_text = '[CLS] ' + curr_text + ' [SEP]'\n",
        "\n",
        "#   tokenized_text = tokenizer.tokenize(curr_text)\n",
        "\n",
        "#   indexed_tokens = tokenizer.convert_tokens_to_ids(tokenized_text)\n",
        "#   segments_ids = [1] * len(tokenized_text)\n",
        "\n",
        "#   tokens_tensor = torch.tensor([indexed_tokens])\n",
        "#   segments_tensors = torch.tensor([segments_ids])\n",
        "\n",
        "#   with torch.no_grad():\n",
        "#     outputs = model_bert(tokens_tensor, segments_tensors)\n",
        "#     hidden_states = outputs[2]\n",
        "\n",
        "#   sent_ebd = torch.mean(hidden_states[-2][0], dim=0)\n",
        "#   x_train_bert[i] = sent_ebd.numpy()\n",
        "\n",
        "# y_train_bert = y_train\n",
        "# print('training set bert encoding done')\n",
        "\n",
        "for i in range(len(atis_test['message'])):\n",
        "  curr_text = atis_test['message'][i]\n",
        "  curr_text = '[CLS] ' + curr_text + ' [SEP]'\n",
        "\n",
        "  tokenized_text = tokenizer.tokenize(curr_text)\n",
        "\n",
        "  indexed_tokens = tokenizer.convert_tokens_to_ids(tokenized_text)\n",
        "  segments_ids = [1] * len(tokenized_text)\n",
        "\n",
        "  with torch.no_grad():\n",
        "    outputs = model_bert(tokens_tensor, segments_tensors)\n",
        "    hidden_states = outputs[2]\n",
        "\n",
        "  sent_ebd = torch.mean(hidden_states[-2][0], dim=0)\n",
        "  x_test_bert[i] = sent_ebd.numpy()\n",
        "\n",
        "y_test_bert = y_test\n",
        "print('test set bert encoding done')"
      ]
    },
    {
      "cell_type": "code",
      "execution_count": null,
      "metadata": {
        "colab": {
          "base_uri": "https://localhost:8080/"
        },
        "id": "p_HuQ49e93Fo",
        "outputId": "a1048648-f102-438d-88ee-abdbc4bfa1cd"
      },
      "outputs": [
        {
          "name": "stderr",
          "output_type": "stream",
          "text": [
            "/usr/local/lib/python3.7/dist-packages/sklearn/utils/validation.py:598: FutureWarning: np.matrix usage is deprecated in 1.0 and will raise a TypeError in 1.2. Please convert to a numpy array with np.asarray. For more information see: https://numpy.org/doc/stable/reference/generated/numpy.matrix.html\n",
            "  FutureWarning,\n"
          ]
        },
        {
          "data": {
            "text/plain": [
              "RandomForestClassifier(n_estimators=150)"
            ]
          },
          "execution_count": 37,
          "metadata": {},
          "output_type": "execute_result"
        }
      ],
      "source": [
        "model_rf_bert = RandomForestClassifier(n_estimators=150, max_depth=None)\n",
        "model_rf_bert.fit(x_test_bert, y_test_bert)"
      ]
    },
    {
      "cell_type": "code",
      "execution_count": null,
      "metadata": {
        "colab": {
          "base_uri": "https://localhost:8080/"
        },
        "id": "V-rtWXo--D7X",
        "outputId": "c3d06d91-a2bc-48a5-eb4b-a9e75c857750"
      },
      "outputs": [
        {
          "name": "stdout",
          "output_type": "stream",
          "text": [
            "evaluate the model:  random_forest_d2v_features_768_n_estimators=150_max_depth=None\n",
            "accuracy score:  0.79\n",
            "balanced accuracy score:  0.125\n",
            "weighted precision:  0.6241\n",
            "weighted recall:  0.79\n",
            "weighted f1 score:  0.6973184357541901\n",
            "macro f1 score:  0.11033519553072627\n"
          ]
        },
        {
          "name": "stderr",
          "output_type": "stream",
          "text": [
            "/usr/local/lib/python3.7/dist-packages/sklearn/metrics/_classification.py:1318: UndefinedMetricWarning: Precision is ill-defined and being set to 0.0 in labels with no predicted samples. Use `zero_division` parameter to control this behavior.\n",
            "  _warn_prf(average, modifier, msg_start, len(result))\n"
          ]
        }
      ],
      "source": [
        "evaluate_model(model=model_rf_bert, name='random_forest_d2v_features_{}_n_estimators=150_max_depth=None'.format(num_features), x_test=x_test_bert, y_test=y_test_bert, num_features=num_features,\n",
        "                path='/content/drive/MyDrive/nlp_datasets/ATIS dataset/models', filename='evaluation_rf_bert_test.csv')"
      ]
    },
    {
      "cell_type": "code",
      "execution_count": null,
      "metadata": {
        "colab": {
          "base_uri": "https://localhost:8080/"
        },
        "id": "p-SI_qT0-g_W",
        "outputId": "586cc44f-7cfb-4031-d6fb-7c1ae18459af"
      },
      "outputs": [
        {
          "name": "stderr",
          "output_type": "stream",
          "text": [
            "Some weights of the model checkpoint at bert-base-uncased were not used when initializing BertModel: ['cls.predictions.transform.dense.bias', 'cls.predictions.decoder.weight', 'cls.predictions.transform.LayerNorm.weight', 'cls.predictions.transform.dense.weight', 'cls.predictions.transform.LayerNorm.bias', 'cls.seq_relationship.bias', 'cls.seq_relationship.weight', 'cls.predictions.bias']\n",
            "- This IS expected if you are initializing BertModel from the checkpoint of a model trained on another task or with another architecture (e.g. initializing a BertForSequenceClassification model from a BertForPreTraining model).\n",
            "- This IS NOT expected if you are initializing BertModel from the checkpoint of a model that you expect to be exactly identical (initializing a BertForSequenceClassification model from a BertForSequenceClassification model).\n"
          ]
        },
        {
          "name": "stdout",
          "output_type": "stream",
          "text": [
            "training set bert encoding done\n"
          ]
        }
      ],
      "source": [
        "tokenizer = BertTokenizer.from_pretrained('bert-base-uncased')\n",
        "model_bert = BertModel.from_pretrained('bert-base-uncased', output_hidden_states=True)\n",
        "model_bert.eval() \n",
        "\n",
        "bert_ebd_len = 768\n",
        "num_features = 768\n",
        "x_train_bert = np.zeros([len(atis_train['message']), bert_ebd_len]) # initialize to zero, save zero padding\n",
        "x_test_bert = np.zeros([len(atis_test['message']), bert_ebd_len])\n",
        "\n",
        "for i in range(len(atis_train['message'])):\n",
        "  curr_text = atis_train['message'][i]\n",
        "  curr_text = '[CLS] ' + curr_text + ' [SEP]'\n",
        "\n",
        "  tokenized_text = tokenizer.tokenize(curr_text)\n",
        "\n",
        "  indexed_tokens = tokenizer.convert_tokens_to_ids(tokenized_text)\n",
        "  segments_ids = [1] * len(tokenized_text)\n",
        "\n",
        "  tokens_tensor = torch.tensor([indexed_tokens])\n",
        "  segments_tensors = torch.tensor([segments_ids])\n",
        "\n",
        "  with torch.no_grad():\n",
        "    outputs = model_bert(tokens_tensor, segments_tensors)\n",
        "    hidden_states = outputs[2]\n",
        "\n",
        "  sent_ebd = torch.mean(hidden_states[-2][0], dim=0)\n",
        "  x_train_bert[i] = sent_ebd.numpy()\n",
        "\n",
        "y_train_bert = y_train\n",
        "print('training set bert encoding done')\n",
        "\n",
        "# for i in range(len(atis_test['message'])):\n",
        "#   curr_text = atis_test['message'][i]\n",
        "#   curr_text = '[CLS] ' + curr_text + ' [SEP]'\n",
        "\n",
        "#   tokenized_text = tokenizer.tokenize(curr_text)\n",
        "\n",
        "#   indexed_tokens = tokenizer.convert_tokens_to_ids(tokenized_text)\n",
        "#   segments_ids = [1] * len(tokenized_text)\n",
        "\n",
        "#   with torch.no_grad():\n",
        "#     outputs = model_bert(tokens_tensor, segments_tensors)\n",
        "#     hidden_states = outputs[2]\n",
        "\n",
        "#   sent_ebd = torch.mean(hidden_states[-2][0], dim=0)\n",
        "#   x_test_bert[i] = sent_ebd.numpy()\n",
        "\n",
        "# y_test_bert = y_test\n",
        "# print('test set bert encoding done')"
      ]
    },
    {
      "cell_type": "code",
      "execution_count": null,
      "metadata": {
        "colab": {
          "base_uri": "https://localhost:8080/"
        },
        "id": "wtZ1bHRqMPxA",
        "outputId": "1fd22eee-5155-4883-a5b0-d5e9bb3810a3"
      },
      "outputs": [
        {
          "name": "stderr",
          "output_type": "stream",
          "text": [
            "/usr/local/lib/python3.7/dist-packages/sklearn/utils/validation.py:598: FutureWarning: np.matrix usage is deprecated in 1.0 and will raise a TypeError in 1.2. Please convert to a numpy array with np.asarray. For more information see: https://numpy.org/doc/stable/reference/generated/numpy.matrix.html\n",
            "  FutureWarning,\n"
          ]
        },
        {
          "data": {
            "text/plain": [
              "RandomForestClassifier(n_estimators=150)"
            ]
          },
          "execution_count": 40,
          "metadata": {},
          "output_type": "execute_result"
        }
      ],
      "source": [
        "model_rf_bert = RandomForestClassifier(n_estimators=150, max_depth=None)\n",
        "model_rf_bert.fit(x_train_bert, y_train_bert)"
      ]
    },
    {
      "cell_type": "code",
      "execution_count": null,
      "metadata": {
        "colab": {
          "base_uri": "https://localhost:8080/"
        },
        "id": "VOwVltQXMhhP",
        "outputId": "4f64571f-92bd-4ced-999e-0c13107c202a"
      },
      "outputs": [
        {
          "name": "stdout",
          "output_type": "stream",
          "text": [
            "evaluate the model:  random_forest_d2v_features_768_n_estimators=150_max_depth=None\n",
            "accuracy score:  1.0\n",
            "balanced accuracy score:  1.0\n",
            "weighted precision:  1.0\n",
            "weighted recall:  1.0\n",
            "weighted f1 score:  1.0\n",
            "macro f1 score:  1.0\n"
          ]
        }
      ],
      "source": [
        "evaluate_model(model=model_rf_bert, name='random_forest_d2v_features_{}_n_estimators=150_max_depth=None'.format(num_features), x_test=x_train_bert, y_test=y_train_bert, num_features=num_features,\n",
        "                path='/content/drive/MyDrive/nlp_datasets/ATIS dataset/models', filename='evaluation_rf_bert_train.csv')"
      ]
    },
    {
      "cell_type": "code",
      "execution_count": null,
      "metadata": {
        "colab": {
          "base_uri": "https://localhost:8080/"
        },
        "id": "lyZm-jPSMtNb",
        "outputId": "48cf36a4-d544-4e67-c2f7-ec69f1df3b23"
      },
      "outputs": [
        {
          "name": "stdout",
          "output_type": "stream",
          "text": [
            "evaluate the model:  random_forest_d2v_features_768_n_estimators=150_max_depth=None\n",
            "accuracy score:  0.04125\n",
            "balanced accuracy score:  0.125\n",
            "weighted precision:  0.0017015625000000002\n",
            "weighted recall:  0.04125\n",
            "weighted f1 score:  0.003268307322929172\n",
            "macro f1 score:  0.009903961584633855\n"
          ]
        },
        {
          "name": "stderr",
          "output_type": "stream",
          "text": [
            "/usr/local/lib/python3.7/dist-packages/sklearn/metrics/_classification.py:1318: UndefinedMetricWarning: Precision is ill-defined and being set to 0.0 in labels with no predicted samples. Use `zero_division` parameter to control this behavior.\n",
            "  _warn_prf(average, modifier, msg_start, len(result))\n",
            "/usr/local/lib/python3.7/dist-packages/ipykernel_launcher.py:2: FutureWarning: The error_bad_lines argument has been deprecated and will be removed in a future version.\n",
            "\n",
            "\n",
            "  \n"
          ]
        }
      ],
      "source": [
        "evaluate_model(model=model_rf_bert, name='random_forest_d2v_features_{}_n_estimators=150_max_depth=None'.format(num_features), x_test=x_test_bert, y_test=y_test_bert, num_features=num_features,\n",
        "                path='/content/drive/MyDrive/nlp_datasets/ATIS dataset/models', filename='evaluation_rf_bert.csv')"
      ]
    }
  ],
  "metadata": {
    "colab": {
      "collapsed_sections": [],
      "provenance": []
    },
    "kernelspec": {
      "display_name": "Python 3.10.7 64-bit",
      "language": "python",
      "name": "python3"
    },
    "language_info": {
      "name": "python",
      "version": "3.10.7"
    },
    "vscode": {
      "interpreter": {
        "hash": "971cac2d3a85aca30ddd2f84efc770d4552bac85453983cef0b0351cb5d9b584"
      }
    },
    "widgets": {
      "application/vnd.jupyter.widget-state+json": {
        "21cd50796ed142ea9d17e55b26914d4f": {
          "model_module": "@jupyter-widgets/controls",
          "model_module_version": "1.5.0",
          "model_name": "DescriptionStyleModel",
          "state": {
            "_model_module": "@jupyter-widgets/controls",
            "_model_module_version": "1.5.0",
            "_model_name": "DescriptionStyleModel",
            "_view_count": null,
            "_view_module": "@jupyter-widgets/base",
            "_view_module_version": "1.2.0",
            "_view_name": "StyleView",
            "description_width": ""
          }
        },
        "2271a8ee88ef48c8950c0bb72fdfc00e": {
          "model_module": "@jupyter-widgets/base",
          "model_module_version": "1.2.0",
          "model_name": "LayoutModel",
          "state": {
            "_model_module": "@jupyter-widgets/base",
            "_model_module_version": "1.2.0",
            "_model_name": "LayoutModel",
            "_view_count": null,
            "_view_module": "@jupyter-widgets/base",
            "_view_module_version": "1.2.0",
            "_view_name": "LayoutView",
            "align_content": null,
            "align_items": null,
            "align_self": null,
            "border": null,
            "bottom": null,
            "display": null,
            "flex": null,
            "flex_flow": null,
            "grid_area": null,
            "grid_auto_columns": null,
            "grid_auto_flow": null,
            "grid_auto_rows": null,
            "grid_column": null,
            "grid_gap": null,
            "grid_row": null,
            "grid_template_areas": null,
            "grid_template_columns": null,
            "grid_template_rows": null,
            "height": null,
            "justify_content": null,
            "justify_items": null,
            "left": null,
            "margin": null,
            "max_height": null,
            "max_width": null,
            "min_height": null,
            "min_width": null,
            "object_fit": null,
            "object_position": null,
            "order": null,
            "overflow": null,
            "overflow_x": null,
            "overflow_y": null,
            "padding": null,
            "right": null,
            "top": null,
            "visibility": null,
            "width": null
          }
        },
        "2d68c81e7d80425a863cc016c5fe303f": {
          "model_module": "@jupyter-widgets/base",
          "model_module_version": "1.2.0",
          "model_name": "LayoutModel",
          "state": {
            "_model_module": "@jupyter-widgets/base",
            "_model_module_version": "1.2.0",
            "_model_name": "LayoutModel",
            "_view_count": null,
            "_view_module": "@jupyter-widgets/base",
            "_view_module_version": "1.2.0",
            "_view_name": "LayoutView",
            "align_content": null,
            "align_items": null,
            "align_self": null,
            "border": null,
            "bottom": null,
            "display": null,
            "flex": null,
            "flex_flow": null,
            "grid_area": null,
            "grid_auto_columns": null,
            "grid_auto_flow": null,
            "grid_auto_rows": null,
            "grid_column": null,
            "grid_gap": null,
            "grid_row": null,
            "grid_template_areas": null,
            "grid_template_columns": null,
            "grid_template_rows": null,
            "height": null,
            "justify_content": null,
            "justify_items": null,
            "left": null,
            "margin": null,
            "max_height": null,
            "max_width": null,
            "min_height": null,
            "min_width": null,
            "object_fit": null,
            "object_position": null,
            "order": null,
            "overflow": null,
            "overflow_x": null,
            "overflow_y": null,
            "padding": null,
            "right": null,
            "top": null,
            "visibility": null,
            "width": null
          }
        },
        "5ad696f4f20b4ec18c9e390b1ab88e95": {
          "model_module": "@jupyter-widgets/controls",
          "model_module_version": "1.5.0",
          "model_name": "HTMLModel",
          "state": {
            "_dom_classes": [],
            "_model_module": "@jupyter-widgets/controls",
            "_model_module_version": "1.5.0",
            "_model_name": "HTMLModel",
            "_view_count": null,
            "_view_module": "@jupyter-widgets/controls",
            "_view_module_version": "1.5.0",
            "_view_name": "HTMLView",
            "description": "",
            "description_tooltip": null,
            "layout": "IPY_MODEL_2d68c81e7d80425a863cc016c5fe303f",
            "placeholder": "​",
            "style": "IPY_MODEL_cf082d52db6d4c11b934ca99cede3c48",
            "value": ""
          }
        },
        "770cfea274d8465aac4fa51c435dfd89": {
          "model_module": "@jupyter-widgets/controls",
          "model_module_version": "1.5.0",
          "model_name": "HTMLModel",
          "state": {
            "_dom_classes": [],
            "_model_module": "@jupyter-widgets/controls",
            "_model_module_version": "1.5.0",
            "_model_name": "HTMLModel",
            "_view_count": null,
            "_view_module": "@jupyter-widgets/controls",
            "_view_module_version": "1.5.0",
            "_view_name": "HTMLView",
            "description": "",
            "description_tooltip": null,
            "layout": "IPY_MODEL_b587d616b0cc4bfc8be40ec1d2005a63",
            "placeholder": "​",
            "style": "IPY_MODEL_21cd50796ed142ea9d17e55b26914d4f",
            "value": " 0/0 [00:00&lt;?, ?it/s]"
          }
        },
        "862fac1d1e1843c082cdf54b4bf47fab": {
          "model_module": "@jupyter-widgets/base",
          "model_module_version": "1.2.0",
          "model_name": "LayoutModel",
          "state": {
            "_model_module": "@jupyter-widgets/base",
            "_model_module_version": "1.2.0",
            "_model_name": "LayoutModel",
            "_view_count": null,
            "_view_module": "@jupyter-widgets/base",
            "_view_module_version": "1.2.0",
            "_view_name": "LayoutView",
            "align_content": null,
            "align_items": null,
            "align_self": null,
            "border": null,
            "bottom": null,
            "display": null,
            "flex": null,
            "flex_flow": null,
            "grid_area": null,
            "grid_auto_columns": null,
            "grid_auto_flow": null,
            "grid_auto_rows": null,
            "grid_column": null,
            "grid_gap": null,
            "grid_row": null,
            "grid_template_areas": null,
            "grid_template_columns": null,
            "grid_template_rows": null,
            "height": null,
            "justify_content": null,
            "justify_items": null,
            "left": null,
            "margin": null,
            "max_height": null,
            "max_width": null,
            "min_height": null,
            "min_width": null,
            "object_fit": null,
            "object_position": null,
            "order": null,
            "overflow": null,
            "overflow_x": null,
            "overflow_y": null,
            "padding": null,
            "right": null,
            "top": null,
            "visibility": null,
            "width": "20px"
          }
        },
        "87c166b2483043049bca6fafe6296f1f": {
          "model_module": "@jupyter-widgets/controls",
          "model_module_version": "1.5.0",
          "model_name": "HBoxModel",
          "state": {
            "_dom_classes": [],
            "_model_module": "@jupyter-widgets/controls",
            "_model_module_version": "1.5.0",
            "_model_name": "HBoxModel",
            "_view_count": null,
            "_view_module": "@jupyter-widgets/controls",
            "_view_module_version": "1.5.0",
            "_view_name": "HBoxView",
            "box_style": "",
            "children": [
              "IPY_MODEL_5ad696f4f20b4ec18c9e390b1ab88e95",
              "IPY_MODEL_dc55a42c506b405d8ce8c1e7c4142100",
              "IPY_MODEL_770cfea274d8465aac4fa51c435dfd89"
            ],
            "layout": "IPY_MODEL_2271a8ee88ef48c8950c0bb72fdfc00e"
          }
        },
        "a2eed8425db8463d8aca8ee1f81f73ff": {
          "model_module": "@jupyter-widgets/controls",
          "model_module_version": "1.5.0",
          "model_name": "ProgressStyleModel",
          "state": {
            "_model_module": "@jupyter-widgets/controls",
            "_model_module_version": "1.5.0",
            "_model_name": "ProgressStyleModel",
            "_view_count": null,
            "_view_module": "@jupyter-widgets/base",
            "_view_module_version": "1.2.0",
            "_view_name": "StyleView",
            "bar_color": null,
            "description_width": ""
          }
        },
        "b587d616b0cc4bfc8be40ec1d2005a63": {
          "model_module": "@jupyter-widgets/base",
          "model_module_version": "1.2.0",
          "model_name": "LayoutModel",
          "state": {
            "_model_module": "@jupyter-widgets/base",
            "_model_module_version": "1.2.0",
            "_model_name": "LayoutModel",
            "_view_count": null,
            "_view_module": "@jupyter-widgets/base",
            "_view_module_version": "1.2.0",
            "_view_name": "LayoutView",
            "align_content": null,
            "align_items": null,
            "align_self": null,
            "border": null,
            "bottom": null,
            "display": null,
            "flex": null,
            "flex_flow": null,
            "grid_area": null,
            "grid_auto_columns": null,
            "grid_auto_flow": null,
            "grid_auto_rows": null,
            "grid_column": null,
            "grid_gap": null,
            "grid_row": null,
            "grid_template_areas": null,
            "grid_template_columns": null,
            "grid_template_rows": null,
            "height": null,
            "justify_content": null,
            "justify_items": null,
            "left": null,
            "margin": null,
            "max_height": null,
            "max_width": null,
            "min_height": null,
            "min_width": null,
            "object_fit": null,
            "object_position": null,
            "order": null,
            "overflow": null,
            "overflow_x": null,
            "overflow_y": null,
            "padding": null,
            "right": null,
            "top": null,
            "visibility": null,
            "width": null
          }
        },
        "cf082d52db6d4c11b934ca99cede3c48": {
          "model_module": "@jupyter-widgets/controls",
          "model_module_version": "1.5.0",
          "model_name": "DescriptionStyleModel",
          "state": {
            "_model_module": "@jupyter-widgets/controls",
            "_model_module_version": "1.5.0",
            "_model_name": "DescriptionStyleModel",
            "_view_count": null,
            "_view_module": "@jupyter-widgets/base",
            "_view_module_version": "1.2.0",
            "_view_name": "StyleView",
            "description_width": ""
          }
        },
        "dc55a42c506b405d8ce8c1e7c4142100": {
          "model_module": "@jupyter-widgets/controls",
          "model_module_version": "1.5.0",
          "model_name": "FloatProgressModel",
          "state": {
            "_dom_classes": [],
            "_model_module": "@jupyter-widgets/controls",
            "_model_module_version": "1.5.0",
            "_model_name": "FloatProgressModel",
            "_view_count": null,
            "_view_module": "@jupyter-widgets/controls",
            "_view_module_version": "1.5.0",
            "_view_name": "ProgressView",
            "bar_style": "success",
            "description": "",
            "description_tooltip": null,
            "layout": "IPY_MODEL_862fac1d1e1843c082cdf54b4bf47fab",
            "max": 1,
            "min": 0,
            "orientation": "horizontal",
            "style": "IPY_MODEL_a2eed8425db8463d8aca8ee1f81f73ff",
            "value": 0
          }
        }
      }
    }
  },
  "nbformat": 4,
  "nbformat_minor": 0
}
